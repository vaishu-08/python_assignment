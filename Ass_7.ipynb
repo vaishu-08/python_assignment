{
 "cells": [
  {
   "cell_type": "code",
   "execution_count": 2,
   "id": "dec6d33c-732b-45de-bd31-3563a66588da",
   "metadata": {},
   "outputs": [
    {
     "name": "stdout",
     "output_type": "stream",
     "text": [
      "1 2 8\n"
     ]
    }
   ],
   "source": [
    "# Q1. What will be the output of the following function call, and why?\n",
    "\n",
    "\n",
    "def func(a, b=6, c=8):\n",
    "    print(a, b, c)\n",
    "func(1, 2)"
   ]
  },
  {
   "cell_type": "code",
   "execution_count": 3,
   "id": "66a5cfe5-fe60-4aca-96c0-7373d0d1bbcd",
   "metadata": {},
   "outputs": [],
   "source": [
    "# # function has 3 parameter a,b,c\n",
    "# b and c had default value of 6 and 8\n",
    "# and when call func passes values 1 to a and 2 to b and c does not have values \n",
    "# then output will be 1,2,8"
   ]
  },
  {
   "cell_type": "code",
   "execution_count": 7,
   "id": "7e7a0a25-8524-4732-9bfc-d818eb1d2310",
   "metadata": {},
   "outputs": [
    {
     "name": "stdout",
     "output_type": "stream",
     "text": [
      "1 2 3\n"
     ]
    }
   ],
   "source": [
    "# Q2. Predict the output and explain:\n",
    "\n",
    "def func(a, b, c=5):\n",
    "    print(a, b, c)\n",
    "func(1, c=3, b=2)"
   ]
  },
  {
   "cell_type": "code",
   "execution_count": 8,
   "id": "87cfcac2-7152-4b39-a581-8b5b307ab02e",
   "metadata": {},
   "outputs": [],
   "source": [
    "# func parameters: a, b, and c (with default 5).\n",
    "# The call passes: 1 as the positional argument for a.\n",
    "# c=3 as a keyword argument for c.\n",
    "# b=2 as a keyword argument for b.\n",
    "# So parameter assignment:\n",
    "# a = 1 , b = 2 and c = 3"
   ]
  },
  {
   "cell_type": "code",
   "execution_count": 11,
   "id": "0f5176a2-7316-498f-9fcb-37ea204758be",
   "metadata": {},
   "outputs": [
    {
     "name": "stdout",
     "output_type": "stream",
     "text": [
      "1 (2, 3)\n"
     ]
    }
   ],
   "source": [
    "# Explain the behavior and output:\n",
    "\n",
    "def func(a, *pargs):\n",
    "    print(a, pargs)\n",
    "func(1, 2, 3)"
   ]
  },
  {
   "cell_type": "code",
   "execution_count": 12,
   "id": "0060896e-3764-43c9-83a2-7dbff3a04ab7",
   "metadata": {},
   "outputs": [],
   "source": [
    "# func(1, 2, 3) passes three positional arguments: 1, 2, and 3.\n",
    "# a receives the first argument: 1 and \n",
    "# pargs collects the remaining arguments as a tuple: (2, 3)"
   ]
  },
  {
   "cell_type": "code",
   "execution_count": 14,
   "id": "88974144-3eaa-48a8-8236-528274941519",
   "metadata": {},
   "outputs": [
    {
     "name": "stdout",
     "output_type": "stream",
     "text": [
      "1 {'c': 3, 'b': 2}\n"
     ]
    }
   ],
   "source": [
    "# What will this code print, and why?\n",
    "\n",
    "def func(a, **kargs):\n",
    "    print(a, kargs)\n",
    "func(a=1, c=3, b=2)"
   ]
  },
  {
   "cell_type": "code",
   "execution_count": 15,
   "id": "faff1e9f-0309-45f0-a0c3-141f29549f50",
   "metadata": {},
   "outputs": [],
   "source": [
    "# When you call func(a=1, c=3, b=2):\n",
    "# a gets the value 1 The other keyword arguments c=3 and b=2 are collected into the dictionary kargs\n",
    "# So, inside the function: output will be 1 {'c': 3, 'b': 2}"
   ]
  },
  {
   "cell_type": "code",
   "execution_count": 16,
   "id": "10548437-3a2f-4c36-9130-6ec38a86c38a",
   "metadata": {},
   "outputs": [
    {
     "name": "stdout",
     "output_type": "stream",
     "text": [
      "1 5 6 5\n"
     ]
    }
   ],
   "source": [
    "# Explain the result of this call:\n",
    "\n",
    "def func(a, b, c=8, d=5):\n",
    "    print(a, b, c, d)\n",
    "func(1, *(5, 6))"
   ]
  },
  {
   "cell_type": "code",
   "execution_count": 17,
   "id": "3b85e1b9-8b27-4d31-ab41-bb0e7228327c",
   "metadata": {},
   "outputs": [],
   "source": [
    "# The function func takes four parameters:\n",
    "# a is  positional b  is positional  c is default = 8 d is default = 5and when  The call is func(1, *(5, 6)) The * operator unpacks the tuple (5, 6) into separate positional arguments\n",
    "# so output will be a = 1, b = 5 , c = 6 and d = 5"
   ]
  },
  {
   "cell_type": "code",
   "execution_count": 26,
   "id": "10ca9347-c2ce-4d2d-9c05-e097dac3c244",
   "metadata": {},
   "outputs": [
    {
     "name": "stdout",
     "output_type": "stream",
     "text": [
      "1 ['x'] {'a': 'y'}\n"
     ]
    }
   ],
   "source": [
    "# Predict the output of the variables l, m, and n after this code runs:\n",
    "\n",
    "def func(a, b, c):\n",
    "    a = 2\n",
    "    b[0] = 'x'\n",
    "    c['a'] = 'y'\n",
    "l = 1\n",
    "m = [1]\n",
    "n = {'a': 0}\n",
    "func(l, m, n)\n",
    "print(l, m, n)"
   ]
  },
  {
   "cell_type": "code",
   "execution_count": 27,
   "id": "30b0ff85-bf95-4309-9352-d070db207bf9",
   "metadata": {},
   "outputs": [],
   "source": [
    "# a = 2\n",
    "# a is a local variable that initially receives the value of l (which is 1), but assigning 2 here only changes the local copy of a.\n",
    "# This does NOT affect the original variable l.\n",
    "# b[0] = 'x'\n",
    "# b points to the list m.\n",
    "# This modifies the first element of the list m to 'x'.\n",
    "# Lists are mutable, so the change affects the original list m.\n",
    "# c['a'] = 'y'\n",
    "# c points to the dictionary n This changes the value of the key 'a' in dictionary n to 'y' . Dictionaries are also mutable, so this change affects the original dictionary n After calling func(l, m, n):\n",
    "# l remains 1 (unchanged because integers are immutable and reassignment inside function doesn’t affect it).\n",
    "# m becomes ['x'] (first element changed).\n",
    "# n becomes {'a': 'y'} (value of key 'a' changed).\n"
   ]
  },
  {
   "cell_type": "code",
   "execution_count": 29,
   "id": "ccd55e5d-7308-4de8-9137-c3a1b2f87fb1",
   "metadata": {},
   "outputs": [],
   "source": [
    "# Write a function that accepts:\n",
    "# • one required argument,\n",
    "# • a variable number of positional arguments,\n",
    "# • a variable number of keyword arguments,\n",
    "# Then print all three components. Call it with:\n",
    "# my_func(10, 20, 30, x=5, y=15)"
   ]
  },
  {
   "cell_type": "code",
   "execution_count": 30,
   "id": "8f18e217-be31-40b9-8c89-4caaff38d7df",
   "metadata": {},
   "outputs": [
    {
     "name": "stdout",
     "output_type": "stream",
     "text": [
      "Required argument: 10\n",
      "Positional arguments: (20, 30)\n",
      "Keyword arguments: {'x': 5, 'y': 15}\n"
     ]
    }
   ],
   "source": [
    "def my_func(required_arg, *args, **kwargs):\n",
    "    print(\"Required argument:\", required_arg)\n",
    "    print(\"Positional arguments:\", args)\n",
    "    print(\"Keyword arguments:\", kwargs)\n",
    "\n",
    "my_func(10, 20, 30, x=5, y=15)"
   ]
  },
  {
   "cell_type": "code",
   "execution_count": null,
   "id": "00359615-bb2e-4926-98fd-6b6478e77251",
   "metadata": {},
   "outputs": [],
   "source": []
  }
 ],
 "metadata": {
  "kernelspec": {
   "display_name": "Python 3 (ipykernel)",
   "language": "python",
   "name": "python3"
  },
  "language_info": {
   "codemirror_mode": {
    "name": "ipython",
    "version": 3
   },
   "file_extension": ".py",
   "mimetype": "text/x-python",
   "name": "python",
   "nbconvert_exporter": "python",
   "pygments_lexer": "ipython3",
   "version": "3.13.1"
  }
 },
 "nbformat": 4,
 "nbformat_minor": 5
}
