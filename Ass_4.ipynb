{
 "cells": [
  {
   "cell_type": "code",
   "execution_count": 1,
   "id": "1f376e56-bbcb-410e-9e97-a25a360d21ed",
   "metadata": {},
   "outputs": [],
   "source": [
    "# Write a Python program that checks if a number entered by the user is even\n",
    "# or odd. Print \"Even\" if the number is even and \"Odd\" if it is odd."
   ]
  },
  {
   "cell_type": "code",
   "execution_count": 6,
   "id": "31755db4-755a-4cbe-a28a-19c3dbfbab73",
   "metadata": {},
   "outputs": [
    {
     "name": "stdin",
     "output_type": "stream",
     "text": [
      "enter the no :  2\n"
     ]
    },
    {
     "name": "stdout",
     "output_type": "stream",
     "text": [
      "no is even : 2\n"
     ]
    }
   ],
   "source": [
    "enter_no = int(input(\"enter the no : \"))\n",
    "\n",
    "if enter_no % 2 == 0:\n",
    "  print(\"no is even :\" , enter_no )\n",
    "else :\n",
    "  print(\"no is odd : \", enter_no )"
   ]
  },
  {
   "cell_type": "code",
   "execution_count": 7,
   "id": "d9cfbb09-0ec2-4bab-b0f2-a73989aaa2f6",
   "metadata": {},
   "outputs": [],
   "source": [
    "# Create a program that prompts the user for their age and prints whether\n",
    "# they are a child (0-12), teenager (13-19), or adult (20 and above)."
   ]
  },
  {
   "cell_type": "code",
   "execution_count": 8,
   "id": "56e7745d-55a9-47b7-8384-b1e6b2e9f4dd",
   "metadata": {},
   "outputs": [
    {
     "name": "stdin",
     "output_type": "stream",
     "text": [
      "Enter your age:  23\n"
     ]
    },
    {
     "name": "stdout",
     "output_type": "stream",
     "text": [
      "You are an adult.\n"
     ]
    }
   ],
   "source": [
    "age = int(input(\"Enter your age: \"))\n",
    "if 0 <= age <= 12:\n",
    "    print(\"You are a child.\")\n",
    "elif 13 <= age <= 19:\n",
    "    print(\"You are a teenager.\")\n",
    "elif age >= 20:\n",
    "    print(\"You are an adult.\")\n",
    "else:\n",
    "    print(\"Invalid age entered.\")"
   ]
  },
  {
   "cell_type": "code",
   "execution_count": 9,
   "id": "3d23e491-9fa4-43fa-910c-fd2b581ddb75",
   "metadata": {},
   "outputs": [],
   "source": [
    "# Write a program that takes two numbers as input from the user and prints\n",
    "# which number is larger. If both numbers are equal, print \"Both numbers are\n",
    "# equal.\""
   ]
  },
  {
   "cell_type": "code",
   "execution_count": 10,
   "id": "2ed244d4-a230-45dc-a23b-c045ffdd09e8",
   "metadata": {},
   "outputs": [
    {
     "name": "stdin",
     "output_type": "stream",
     "text": [
      "Enter 1 st No :  1\n",
      "Enter 2 nd No :  4\n"
     ]
    },
    {
     "name": "stdout",
     "output_type": "stream",
     "text": [
      "1  is smaller than  4\n"
     ]
    }
   ],
   "source": [
    "a = int(input(\"Enter 1 st No : \"))\n",
    "b = int(input(\"Enter 2 nd No : \"))\n",
    "if a > b :\n",
    "    print(a , \" is  greater than\", b)\n",
    "elif a < b :\n",
    "    print(a , \" is smaller than \" , b)\n",
    "elif a == b:\n",
    "    print(\"Both numbers are equal\")"
   ]
  },
  {
   "cell_type": "code",
   "execution_count": 11,
   "id": "77f98637-29ea-4ad2-8cf0-16596301d055",
   "metadata": {},
   "outputs": [],
   "source": [
    "# Create a program that checks if a user-entered password matches the\n",
    "# string \"securePassword\". Print \"Access Granted\" if it matches, otherwise\n",
    "# print \"Access Denied.\""
   ]
  },
  {
   "cell_type": "code",
   "execution_count": 12,
   "id": "c6afbe58-ffa8-4014-a167-23c362858701",
   "metadata": {},
   "outputs": [
    {
     "name": "stdin",
     "output_type": "stream",
     "text": [
      "Enter your password:  a\n"
     ]
    },
    {
     "name": "stdout",
     "output_type": "stream",
     "text": [
      "Access Denied\n"
     ]
    }
   ],
   "source": [
    "correct_password = \"securepassword\"\n",
    "user_password = input(\"Enter your password: \")\n",
    "if user_password == correct_password:\n",
    "    print(\"Access Granted\")\n",
    "else:\n",
    "    print(\"Access Denied\")"
   ]
  },
  {
   "cell_type": "code",
   "execution_count": 13,
   "id": "629e4a6f-1b0a-4d1d-9493-8a9430ddcf47",
   "metadata": {},
   "outputs": [],
   "source": [
    "# Write a program that takes a score from the user (0-100) and prints the\n",
    "# corresponding grade:\n",
    "# A for 90-100\n",
    "# B for 80-89\n",
    "# C for 70-79\n",
    "# D for 60-69\n",
    "# F for below 60"
   ]
  },
  {
   "cell_type": "code",
   "execution_count": 14,
   "id": "5fc67861-fe17-4910-8d36-a20746ffd481",
   "metadata": {},
   "outputs": [
    {
     "name": "stdin",
     "output_type": "stream",
     "text": [
      "enter the marks :  30\n"
     ]
    },
    {
     "name": "stdout",
     "output_type": "stream",
     "text": [
      "F\n"
     ]
    }
   ],
   "source": [
    "n = int(input(\"enter the marks : \"))\n",
    "\n",
    "if 90 <= n <= 100:\n",
    "  print(\"A\")\n",
    "elif 80 <= n <=89:\n",
    "  print(\"B\")\n",
    "elif 70 <= n <=79:\n",
    "  print(\"C\")\n",
    "elif 60<= n <=69:\n",
    "  print(\"D\")\n",
    "else :\n",
    "  print(\"F\")"
   ]
  },
  {
   "cell_type": "code",
   "execution_count": 15,
   "id": "23d1c7d5-db4a-44b0-bf0b-142786ac49d3",
   "metadata": {},
   "outputs": [],
   "source": [
    "# Create a program that asks the user for a number and checks if it is\n",
    "# positive, negative, or zero. Print the corresponding message."
   ]
  },
  {
   "cell_type": "code",
   "execution_count": 16,
   "id": "2cad374d-2f9c-4c94-9fde-67fd087bcd3f",
   "metadata": {},
   "outputs": [
    {
     "name": "stdin",
     "output_type": "stream",
     "text": [
      "enter the no :  6\n"
     ]
    },
    {
     "name": "stdout",
     "output_type": "stream",
     "text": [
      "positive\n"
     ]
    }
   ],
   "source": [
    "n = int(input(\"enter the no : \"))\n",
    "\n",
    "if n>0 :\n",
    "  print(\"positive\")\n",
    "elif  n<0:\n",
    "  print(\"negative\")\n",
    "else :\n",
    "  print(\"zero\")"
   ]
  },
  {
   "cell_type": "code",
   "execution_count": 17,
   "id": "78040279-941e-4af6-9c5e-205bcf5f35c8",
   "metadata": {},
   "outputs": [],
   "source": [
    "# Write a program that takes three numbers from the user and determines the\n",
    "# largest of the three. Print the largest number."
   ]
  },
  {
   "cell_type": "code",
   "execution_count": 18,
   "id": "c1304dd4-c1ca-476a-b39f-07dc61e77a1e",
   "metadata": {},
   "outputs": [
    {
     "name": "stdin",
     "output_type": "stream",
     "text": [
      "Enter first number:  2\n",
      "Enter second number:  4\n",
      "Enter third number:  7\n"
     ]
    },
    {
     "name": "stdout",
     "output_type": "stream",
     "text": [
      "7\n"
     ]
    }
   ],
   "source": [
    "num1 = input(\"Enter first number: \")\n",
    "num2 = input(\"Enter second number: \")\n",
    "num3 = input(\"Enter third number: \")\n",
    "largest = max(num1, num2, num3)\n",
    "print( largest)"
   ]
  },
  {
   "cell_type": "code",
   "execution_count": 19,
   "id": "4db1ce27-d30d-4d56-a412-03bd42eabeba",
   "metadata": {},
   "outputs": [],
   "source": [
    "# Create a program that checks if a user-entered character is a vowel (a, e, i,\n",
    "# o, u) or a consonant. Print the corresponding message."
   ]
  },
  {
   "cell_type": "code",
   "execution_count": 20,
   "id": "581ddc29-5561-4fdd-a8ec-aced7c92bf3f",
   "metadata": {},
   "outputs": [
    {
     "name": "stdin",
     "output_type": "stream",
     "text": [
      "Enter a character:  a\n"
     ]
    },
    {
     "name": "stdout",
     "output_type": "stream",
     "text": [
      "It is a vowel.\n"
     ]
    }
   ],
   "source": [
    "char = input(\"Enter a character: \").lower()\n",
    "\n",
    "# Check if it's a vowel or consonant\n",
    "if char in \"aeiou\":\n",
    "    print(\"It is a vowel.\")\n",
    "else:\n",
    "    print(\"It is a consonant.\")"
   ]
  },
  {
   "cell_type": "code",
   "execution_count": 21,
   "id": "7c28de35-e8ea-4719-81fc-b5c1384929e4",
   "metadata": {},
   "outputs": [],
   "source": [
    "# Write a program that checks if a given year is a leap year. A year is a leap\n",
    "# year if it is divisible by 4, except for years that are divisible by 100 but not\n",
    "# divisible by 400."
   ]
  },
  {
   "cell_type": "code",
   "execution_count": 22,
   "id": "315f2f97-3330-44c9-8afd-e389eb09f67f",
   "metadata": {},
   "outputs": [
    {
     "name": "stdin",
     "output_type": "stream",
     "text": [
      " 2000\n"
     ]
    },
    {
     "name": "stdout",
     "output_type": "stream",
     "text": [
      "year is leap\n"
     ]
    }
   ],
   "source": [
    "n=int(input())\n",
    "if n % 100==0:\n",
    "    print(\"year is leap\")\n",
    "elif n % 4 == 0 :\n",
    "    print(\" year is Leap\")\n",
    "else :\n",
    "    print(\"year is not leap year\")"
   ]
  },
  {
   "cell_type": "code",
   "execution_count": 23,
   "id": "6c7bfedc-921d-411f-af81-a933918b6dec",
   "metadata": {},
   "outputs": [],
   "source": [
    "# Create a program that prompts the user for a temperature in Celsius and\n",
    "# converts it to Fahrenheit. If the converted temperature is greater than 100°F,\n",
    "# print \"It's boiling!\" Otherwise, print \"It's not boiling yet.\""
   ]
  },
  {
   "cell_type": "code",
   "execution_count": 24,
   "id": "f91a47a2-653f-4082-964b-830171ba1822",
   "metadata": {},
   "outputs": [
    {
     "name": "stdin",
     "output_type": "stream",
     "text": [
      "Enter temperature in Celsius:  30\n"
     ]
    },
    {
     "name": "stdout",
     "output_type": "stream",
     "text": [
      "Temperature in Fahrenheit: 86.0\n",
      "It's not boiling yet.\n"
     ]
    }
   ],
   "source": [
    "celsius = float(input(\"Enter temperature in Celsius: \"))\n",
    "fahrenheit = (celsius * 9/5) + 32\n",
    "print(\"Temperature in Fahrenheit:\", fahrenheit)\n",
    "if fahrenheit > 100:\n",
    "    print(\"It's boiling!\")\n",
    "else:\n",
    "    print(\"It's not boiling yet.\")"
   ]
  },
  {
   "cell_type": "code",
   "execution_count": null,
   "id": "bb2f3b42-34aa-470b-b146-41558c756588",
   "metadata": {},
   "outputs": [],
   "source": []
  }
 ],
 "metadata": {
  "kernelspec": {
   "display_name": "Python 3 (ipykernel)",
   "language": "python",
   "name": "python3"
  },
  "language_info": {
   "codemirror_mode": {
    "name": "ipython",
    "version": 3
   },
   "file_extension": ".py",
   "mimetype": "text/x-python",
   "name": "python",
   "nbconvert_exporter": "python",
   "pygments_lexer": "ipython3",
   "version": "3.13.1"
  }
 },
 "nbformat": 4,
 "nbformat_minor": 5
}
