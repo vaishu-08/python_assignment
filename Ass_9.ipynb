{
 "cells": [
  {
   "cell_type": "code",
   "execution_count": 1,
   "id": "ad8071e0-8527-46be-af26-029acdf20150",
   "metadata": {},
   "outputs": [],
   "source": [
    "# Create a list years_list that includes the year of your birth and the next five years (total 6\n",
    "# years)."
   ]
  },
  {
   "cell_type": "code",
   "execution_count": 2,
   "id": "d46f86e3-8121-49d5-bd6b-e8177ce217ae",
   "metadata": {},
   "outputs": [
    {
     "name": "stdout",
     "output_type": "stream",
     "text": [
      "[2003, 2004, 2005, 2006, 2007, 2008]\n"
     ]
    }
   ],
   "source": [
    "birth_year = 2003 \n",
    "years_list = []\n",
    "\n",
    "i = 0\n",
    "while i < 6:\n",
    "    years_list.append(birth_year + i)\n",
    "    i += 1\n",
    "\n",
    "print(years_list)\n"
   ]
  },
  {
   "cell_type": "code",
   "execution_count": 3,
   "id": "8a6c5200-ad39-4c69-8644-d59a33a3bfca",
   "metadata": {},
   "outputs": [],
   "source": [
    "# Print the year in years_list when you were 3 years old.\n",
    "# Hint: Remember, your 0th year is the first item."
   ]
  },
  {
   "cell_type": "code",
   "execution_count": 4,
   "id": "c8bba965-a162-4ca7-af6b-3ae997a48ac3",
   "metadata": {},
   "outputs": [
    {
     "name": "stdout",
     "output_type": "stream",
     "text": [
      "2006\n"
     ]
    }
   ],
   "source": [
    "birth_year = 2003 \n",
    "years_list = []\n",
    "\n",
    "i = 0\n",
    "while i < 6:\n",
    "    years_list.append(birth_year + i)\n",
    "    i += 1\n",
    "\n",
    "print(years_list[3])\n"
   ]
  },
  {
   "cell_type": "code",
   "execution_count": 5,
   "id": "14e4add9-8897-4b5d-808f-0f5664ccc62b",
   "metadata": {},
   "outputs": [],
   "source": [
    "# Which year in years_list represents the most recent (your oldest age)?"
   ]
  },
  {
   "cell_type": "code",
   "execution_count": 7,
   "id": "5996c08e-45ed-4d6d-a9e9-1c6a96d14245",
   "metadata": {},
   "outputs": [
    {
     "name": "stdout",
     "output_type": "stream",
     "text": [
      "2008\n"
     ]
    }
   ],
   "source": [
    "birth_year = 2003\n",
    "years_list = list(range(birth_year, birth_year + 6))\n",
    "\n",
    "print(years_list[-1])  \n"
   ]
  },
  {
   "cell_type": "code",
   "execution_count": 8,
   "id": "164907c2-13c6-4501-8f4e-7a9f8893ef66",
   "metadata": {},
   "outputs": [],
   "source": [
    "# Create a list called things with the following items:\n",
    "# [\"mozzarella\", \"cinderella\", \"salmonella\"]"
   ]
  },
  {
   "cell_type": "code",
   "execution_count": 9,
   "id": "c109d77a-1f74-4bc1-91d9-3e67c8c59adc",
   "metadata": {},
   "outputs": [],
   "source": [
    "things = [\"mozzarella\", \"cinderella\", \"salmonella\"]\n"
   ]
  },
  {
   "cell_type": "code",
   "execution_count": 10,
   "id": "e6c53b21-5c57-4aab-8f25-4d991ac35d4c",
   "metadata": {},
   "outputs": [
    {
     "data": {
      "text/plain": [
       "['mozzarella', 'cinderella', 'salmonella']"
      ]
     },
     "execution_count": 10,
     "metadata": {},
     "output_type": "execute_result"
    }
   ],
   "source": [
    "things"
   ]
  },
  {
   "cell_type": "code",
   "execution_count": 11,
   "id": "da0d9003-31cb-4890-a4a6-732d14107b4f",
   "metadata": {},
   "outputs": [],
   "source": [
    "# Capitalize the item that refers to a person in the things list.\n",
    "# Print the list. Did the original list change?"
   ]
  },
  {
   "cell_type": "code",
   "execution_count": 12,
   "id": "9cd42ad2-e748-4764-9dc7-d4364d185584",
   "metadata": {},
   "outputs": [
    {
     "name": "stdout",
     "output_type": "stream",
     "text": [
      "['mozzarella', 'Cinderella', 'salmonella']\n"
     ]
    }
   ],
   "source": [
    "things = [\"mozzarella\", \"cinderella\", \"salmonella\"]\n",
    "\n",
    "\n",
    "things[1] = things[1].capitalize()\n",
    "\n",
    "print(things)\n"
   ]
  },
  {
   "cell_type": "code",
   "execution_count": 13,
   "id": "fbb5fe07-bede-4fc3-97e6-f60fd5ae085d",
   "metadata": {},
   "outputs": [],
   "source": [
    "# Create a list called surprise_list with these values:\n",
    "# [\"Groucho\", \"Chico\", \"Harpo\"]"
   ]
  },
  {
   "cell_type": "code",
   "execution_count": 14,
   "id": "e4b7bbfc-42a4-45e7-84eb-6c29df89ffd4",
   "metadata": {},
   "outputs": [],
   "source": [
    "surprise_list = [\"Groucho\", \"Chico\", \"Harpo\"]\n"
   ]
  },
  {
   "cell_type": "code",
   "execution_count": 15,
   "id": "fcca64fe-6653-4b37-8c06-97ad0dc68064",
   "metadata": {},
   "outputs": [
    {
     "data": {
      "text/plain": [
       "['Groucho', 'Chico', 'Harpo']"
      ]
     },
     "execution_count": 15,
     "metadata": {},
     "output_type": "execute_result"
    }
   ],
   "source": [
    "surprise_list"
   ]
  },
  {
   "cell_type": "code",
   "execution_count": 16,
   "id": "793807e9-12f2-4760-b9f2-47b1189a4098",
   "metadata": {},
   "outputs": [],
   "source": [
    "# Take the last item in surprise_list:\n",
    "\n",
    "# • Lowercase it\n",
    "# • Reverse it\n",
    "# • Capitalize the result\n",
    "# Then print it."
   ]
  },
  {
   "cell_type": "code",
   "execution_count": 17,
   "id": "259494d3-b3fd-4c65-b63f-149ea82ef379",
   "metadata": {},
   "outputs": [
    {
     "name": "stdout",
     "output_type": "stream",
     "text": [
      "Oprah\n"
     ]
    }
   ],
   "source": [
    "surprise_list = [\"Groucho\", \"Chico\", \"Harpo\"]\n",
    "\n",
    "last_item = surprise_list[-1]          \n",
    "lowercased = last_item.lower()         \n",
    "reversed_str = lowercased[::-1]        \n",
    "capitalized = reversed_str.capitalize()  \n",
    "print(capitalized)\n"
   ]
  },
  {
   "cell_type": "code",
   "execution_count": 18,
   "id": "af3cf15a-409d-4048-90bb-9601fc2e58d2",
   "metadata": {},
   "outputs": [],
   "source": [
    "# Create a dictionary e2f that maps these:\n",
    "# • dog → chien\n",
    "# • cat → chat\n",
    "# • walrus → morse\n",
    "# Print the dictionary."
   ]
  },
  {
   "cell_type": "code",
   "execution_count": 19,
   "id": "a1ca6577-e26d-461f-bfbf-6cb9e40dbede",
   "metadata": {},
   "outputs": [
    {
     "name": "stdout",
     "output_type": "stream",
     "text": [
      "{'dog': 'chien', 'cat': 'chat', 'walrus': 'morse'}\n"
     ]
    }
   ],
   "source": [
    "e2f = {\n",
    "    'dog': 'chien',\n",
    "    'cat': 'chat',\n",
    "    'walrus': 'morse'\n",
    "}\n",
    "\n",
    "print(e2f)\n"
   ]
  },
  {
   "cell_type": "code",
   "execution_count": 21,
   "id": "b61d3942-0ab7-4c1b-acd4-812ebbcc6404",
   "metadata": {},
   "outputs": [],
   "source": [
    "# Use e2f to print the French word for “walrus.”"
   ]
  },
  {
   "cell_type": "code",
   "execution_count": 22,
   "id": "d5581d03-201d-45d2-bbcb-5f53f02eea73",
   "metadata": {},
   "outputs": [
    {
     "name": "stdout",
     "output_type": "stream",
     "text": [
      "morse\n"
     ]
    }
   ],
   "source": [
    "e2f = {\n",
    "    'dog': 'chien',\n",
    "    'cat': 'chat',\n",
    "    'walrus': 'morse'\n",
    "}\n",
    "\n",
    "print(e2f['walrus'])\n"
   ]
  },
  {
   "cell_type": "code",
   "execution_count": 23,
   "id": "5cdde299-4fc4-4fa9-8310-514ffd04cd9a",
   "metadata": {},
   "outputs": [],
   "source": [
    "# Create a reverse dictionary f2e from e2f using the .items() method.\n",
    "# Print f2e."
   ]
  },
  {
   "cell_type": "code",
   "execution_count": 24,
   "id": "2c9cb36a-b683-4186-b84f-3cbff924fbed",
   "metadata": {},
   "outputs": [
    {
     "name": "stdout",
     "output_type": "stream",
     "text": [
      "{'chien': 'dog', 'chat': 'cat', 'morse': 'walrus'}\n"
     ]
    }
   ],
   "source": [
    "e2f = {\n",
    "    'dog': 'chien',\n",
    "    'cat': 'chat',\n",
    "    'walrus': 'morse'\n",
    "}\n",
    "\n",
    "f2e = {}\n",
    "for english, french in e2f.items():\n",
    "    f2e[french] = english\n",
    "\n",
    "print(f2e)\n"
   ]
  },
  {
   "cell_type": "code",
   "execution_count": 25,
   "id": "750da176-d8d5-4bd7-800c-ded04d8b5291",
   "metadata": {},
   "outputs": [],
   "source": [
    "# Use f2e to print the English word for “chien.”"
   ]
  },
  {
   "cell_type": "code",
   "execution_count": 26,
   "id": "a08107f9-c0a0-4c21-a53f-012a37e26260",
   "metadata": {},
   "outputs": [
    {
     "name": "stdout",
     "output_type": "stream",
     "text": [
      "dog\n"
     ]
    }
   ],
   "source": [
    "f2e = {\n",
    "    'chien': 'dog',\n",
    "    'chat': 'cat',\n",
    "    'morse': 'walrus'\n",
    "}\n",
    "\n",
    "print(f2e['chien'])\n",
    "\n"
   ]
  },
  {
   "cell_type": "code",
   "execution_count": 28,
   "id": "5e8fe345-5da4-4b30-b382-5500eff08ca8",
   "metadata": {},
   "outputs": [],
   "source": [
    "# Print the set of all English words (the keys from e2f)."
   ]
  },
  {
   "cell_type": "code",
   "execution_count": 29,
   "id": "ec8d3c18-88b9-4ede-9053-5e0d4254bb14",
   "metadata": {},
   "outputs": [
    {
     "name": "stdout",
     "output_type": "stream",
     "text": [
      "{'cat', 'dog', 'walrus'}\n"
     ]
    }
   ],
   "source": [
    "e2f = {\n",
    "    'dog': 'chien',\n",
    "    'cat': 'chat',\n",
    "    'walrus': 'morse'\n",
    "}\n",
    "\n",
    "english_words = set(e2f.keys())\n",
    "print(english_words)\n"
   ]
  },
  {
   "cell_type": "code",
   "execution_count": 30,
   "id": "ce9161e0-4230-466e-95e8-b702d270d5b0",
   "metadata": {},
   "outputs": [],
   "source": [
    "# Create a dictionary life structured like this:\n",
    "# {\n",
    "\n",
    "# 'animals': {\n",
    "# 'cats': ['Henri', 'Grumpy', 'Lucy'],\n",
    "# 'octopi': {},\n",
    "# 'emus': {}\n",
    "# },\n",
    "# 'plants': {},\n",
    "# 'other': {}\n",
    "# }"
   ]
  },
  {
   "cell_type": "code",
   "execution_count": 32,
   "id": "fef80b3d-000c-4ef2-8bb2-0fe1972f5b76",
   "metadata": {},
   "outputs": [],
   "source": [
    "life = {\n",
    "    'animals': {\n",
    "        'cats': ['Henri', 'Grumpy', 'Lucy'],\n",
    "        'octopi': {},\n",
    "        'emus': {}\n",
    "    },\n",
    "    'plants': {},\n",
    "    'other': {}\n",
    "}\n"
   ]
  },
  {
   "cell_type": "code",
   "execution_count": 33,
   "id": "e8aaaaa0-14d0-4bfe-ba3c-0508e22786e5",
   "metadata": {},
   "outputs": [
    {
     "data": {
      "text/plain": [
       "{'animals': {'cats': ['Henri', 'Grumpy', 'Lucy'], 'octopi': {}, 'emus': {}},\n",
       " 'plants': {},\n",
       " 'other': {}}"
      ]
     },
     "execution_count": 33,
     "metadata": {},
     "output_type": "execute_result"
    }
   ],
   "source": [
    "life"
   ]
  },
  {
   "cell_type": "code",
   "execution_count": 34,
   "id": "7515755d-554e-441d-9423-53e0529de300",
   "metadata": {},
   "outputs": [],
   "source": [
    "# Print the top-level keys of life."
   ]
  },
  {
   "cell_type": "code",
   "execution_count": 35,
   "id": "20e1afc7-5dbc-4ab4-ae6a-1e719b7b6f65",
   "metadata": {},
   "outputs": [
    {
     "name": "stdout",
     "output_type": "stream",
     "text": [
      "dict_keys(['animals', 'plants', 'other'])\n"
     ]
    }
   ],
   "source": [
    "life = {\n",
    "    'animals': {\n",
    "        'cats': ['Henri', 'Grumpy', 'Lucy'],\n",
    "        'octopi': {},\n",
    "        'emus': {}\n",
    "    },\n",
    "    'plants': {},\n",
    "    'other': {}\n",
    "}\n",
    "\n",
    "print(life.keys())\n"
   ]
  },
  {
   "cell_type": "code",
   "execution_count": 36,
   "id": "0229d371-8b4c-4de1-a5f0-6ccd1ab6bcd6",
   "metadata": {},
   "outputs": [],
   "source": [
    "# Print the keys inside life['animals']."
   ]
  },
  {
   "cell_type": "code",
   "execution_count": 37,
   "id": "76387a17-2248-47c7-a275-3fd38a5fe1e5",
   "metadata": {},
   "outputs": [
    {
     "name": "stdout",
     "output_type": "stream",
     "text": [
      "dict_keys(['cats', 'octopi', 'emus'])\n"
     ]
    }
   ],
   "source": [
    "life = {\n",
    "    'animals': {\n",
    "        'cats': ['Henri', 'Grumpy', 'Lucy'],\n",
    "        'octopi': {},\n",
    "        'emus': {}\n",
    "    },\n",
    "    'plants': {},\n",
    "    'other': {}\n",
    "}\n",
    "\n",
    "print(life['animals'].keys())\n"
   ]
  },
  {
   "cell_type": "code",
   "execution_count": 38,
   "id": "5a10cd2e-9e51-4378-935c-35f7ebea5c35",
   "metadata": {},
   "outputs": [],
   "source": [
    "# Print the list of cat names stored in life['animals']['cats']."
   ]
  },
  {
   "cell_type": "code",
   "execution_count": 39,
   "id": "6a65072a-18f1-49b5-b44a-5168b97b53b1",
   "metadata": {},
   "outputs": [
    {
     "name": "stdout",
     "output_type": "stream",
     "text": [
      "['Henri', 'Grumpy', 'Lucy']\n"
     ]
    }
   ],
   "source": [
    "life = {\n",
    "    'animals': {\n",
    "        'cats': ['Henri', 'Grumpy', 'Lucy'],\n",
    "        'octopi': {},\n",
    "        'emus': {}\n",
    "    },\n",
    "    'plants': {},\n",
    "    'other': {}\n",
    "}\n",
    "\n",
    "print(life['animals']['cats'])\n"
   ]
  },
  {
   "cell_type": "code",
   "execution_count": 40,
   "id": "8a31c538-9353-4f79-9b15-286b905538af",
   "metadata": {},
   "outputs": [],
   "source": []
  },
  {
   "cell_type": "code",
   "execution_count": null,
   "id": "98954274-d2e7-4c9a-ae13-9dbbb75f361b",
   "metadata": {},
   "outputs": [],
   "source": []
  }
 ],
 "metadata": {
  "kernelspec": {
   "display_name": "Python 3 (ipykernel)",
   "language": "python",
   "name": "python3"
  },
  "language_info": {
   "codemirror_mode": {
    "name": "ipython",
    "version": 3
   },
   "file_extension": ".py",
   "mimetype": "text/x-python",
   "name": "python",
   "nbconvert_exporter": "python",
   "pygments_lexer": "ipython3",
   "version": "3.13.1"
  }
 },
 "nbformat": 4,
 "nbformat_minor": 5
}
