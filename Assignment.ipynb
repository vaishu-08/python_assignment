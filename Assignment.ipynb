{
 "cells": [
  {
   "cell_type": "code",
   "execution_count": 1,
   "id": "edb9cd06-9edc-4cd1-b973-aecc025b5d5e",
   "metadata": {},
   "outputs": [],
   "source": [
    "# Write a Python program to print your name and favourite colour on two\n",
    "# separate lines."
   ]
  },
  {
   "cell_type": "code",
   "execution_count": 2,
   "id": "7604566b-31b0-4c11-9792-16bafb8dfc0c",
   "metadata": {},
   "outputs": [
    {
     "name": "stdout",
     "output_type": "stream",
     "text": [
      "Vaishnavi Gunjal\n",
      "Black\n"
     ]
    }
   ],
   "source": [
    "print('Vaishnavi Gunjal')\n",
    "print('Black')"
   ]
  },
  {
   "cell_type": "code",
   "execution_count": 3,
   "id": "6fc0208e-6f4a-47ac-9526-fcba3b9f748e",
   "metadata": {},
   "outputs": [],
   "source": [
    "# Write a Python program that prints the result of adding 7 and 8."
   ]
  },
  {
   "cell_type": "code",
   "execution_count": 4,
   "id": "ba36fcd7-cad9-4f8c-a38d-51f23b7b864b",
   "metadata": {},
   "outputs": [
    {
     "data": {
      "text/plain": [
       "15"
      ]
     },
     "execution_count": 4,
     "metadata": {},
     "output_type": "execute_result"
    }
   ],
   "source": [
    "7+8\n"
   ]
  },
  {
   "cell_type": "code",
   "execution_count": 5,
   "id": "8c332f29-a646-4440-95d8-90ad5dc0c29d",
   "metadata": {},
   "outputs": [],
   "source": [
    "# Use the print function to display the following text exactly as it is:\n",
    "# Python is fun!\n",
    "# Let's learn together."
   ]
  },
  {
   "cell_type": "code",
   "execution_count": 7,
   "id": "af6a41f9-c4cb-4782-b07c-56411ef148a0",
   "metadata": {},
   "outputs": [
    {
     "name": "stdout",
     "output_type": "stream",
     "text": [
      "Python is fun!\n",
      " Let's learn together\n"
     ]
    }
   ],
   "source": [
    "print('Python is fun!')\n",
    "print(\" Let's learn together\")"
   ]
  },
  {
   "cell_type": "code",
   "execution_count": 8,
   "id": "94ac77fc-5f80-4c03-b037-6bec0db70a59",
   "metadata": {},
   "outputs": [],
   "source": [
    "# Write a Python program to calculate and print the result of multiplying 6 by\n",
    "# 9."
   ]
  },
  {
   "cell_type": "code",
   "execution_count": 9,
   "id": "49b332d0-1854-48a6-a004-28a8be0d670a",
   "metadata": {},
   "outputs": [
    {
     "data": {
      "text/plain": [
       "54"
      ]
     },
     "execution_count": 9,
     "metadata": {},
     "output_type": "execute_result"
    }
   ],
   "source": [
    "6*9"
   ]
  },
  {
   "cell_type": "code",
   "execution_count": 10,
   "id": "97beeee5-01e9-4f2e-b9d7-cd58bcf03adb",
   "metadata": {},
   "outputs": [],
   "source": [
    "# Write a Python program that prints the result of adding 5 + 5 and\n",
    "# multiplying 2 * 3 in a single line of code."
   ]
  },
  {
   "cell_type": "code",
   "execution_count": 18,
   "id": "c9cc46cb-802e-4871-99a3-7ddc20432673",
   "metadata": {},
   "outputs": [
    {
     "name": "stdout",
     "output_type": "stream",
     "text": [
      "addition =  10  multiplication =  6\n"
     ]
    }
   ],
   "source": [
    "print('addition = ' ,5+5  ,' multiplication = ', 2*3 )"
   ]
  },
  {
   "cell_type": "code",
   "execution_count": 19,
   "id": "691c13ff-82eb-40fd-9889-7359a9bba211",
   "metadata": {},
   "outputs": [],
   "source": [
    "# Take the name A as input from the user and print \"Hello A\", where A is\n",
    "# the name in input."
   ]
  },
  {
   "cell_type": "code",
   "execution_count": 24,
   "id": "527c8318-5eee-4c3e-b57b-3805253222d9",
   "metadata": {},
   "outputs": [
    {
     "name": "stdin",
     "output_type": "stream",
     "text": [
      "enter name  a\n"
     ]
    },
    {
     "name": "stdout",
     "output_type": "stream",
     "text": [
      "hello a\n"
     ]
    }
   ],
   "source": [
    "name = str(input(\"enter name \"))\n",
    "print(\"hello\" , name)"
   ]
  },
  {
   "cell_type": "code",
   "execution_count": 25,
   "id": "d9060cd0-ae9d-4f01-ad76-9358c2efb5ab",
   "metadata": {},
   "outputs": [],
   "source": [
    "# You have x rupees in your savings. You google pay y rupees, print your\n",
    "# bank balance"
   ]
  },
  {
   "cell_type": "code",
   "execution_count": 29,
   "id": "b5dd5eb1-92eb-4edc-aad4-78f43d5c7ea3",
   "metadata": {},
   "outputs": [
    {
     "name": "stdout",
     "output_type": "stream",
     "text": [
      "60\n"
     ]
    }
   ],
   "source": [
    "saving = 100\n",
    "g_pay = 40\n",
    "\n",
    "bank_balance =  saving - g_pay\n",
    "print(bank_balance)"
   ]
  },
  {
   "cell_type": "code",
   "execution_count": 30,
   "id": "73f83be2-2e13-49c9-a2b7-584550573dd1",
   "metadata": {},
   "outputs": [],
   "source": [
    "# Print the first five letters of the English alphabet i.e. A, B, C, D and E.\n",
    "# one below each other"
   ]
  },
  {
   "cell_type": "code",
   "execution_count": 35,
   "id": "a576e07e-ff6c-4b0c-a618-b7b5d5759105",
   "metadata": {},
   "outputs": [
    {
     "name": "stdout",
     "output_type": "stream",
     "text": [
      " A \n",
      " B \n",
      " C \n",
      " D \n",
      " E \n",
      " \n"
     ]
    }
   ],
   "source": [
    "print(' A \\n B \\n C \\n D \\n E \\n ')"
   ]
  },
  {
   "cell_type": "code",
   "execution_count": 36,
   "id": "5fa2f466-9af2-4e14-82a7-f273a5e9cd9a",
   "metadata": {},
   "outputs": [],
   "source": [
    "# Take two names A and B as input from the user, and print \"A says Hi to\n",
    "# B\" (Without quotations), where A and B are the names in input."
   ]
  },
  {
   "cell_type": "code",
   "execution_count": null,
   "id": "1d16e671-4a0e-4672-90c0-a48651e2cdff",
   "metadata": {},
   "outputs": [],
   "source": [
    "n = str(input('enter 1 st name  '))\n",
    "m = str(input('enter 2 nd name  '))\n",
    "print(n,says Hi to ,m)"
   ]
  },
  {
   "cell_type": "code",
   "execution_count": 1,
   "id": "02e346d4-3677-4ee1-9683-85da705ad7a3",
   "metadata": {},
   "outputs": [],
   "source": [
    "# Create a variable age and assign it the value 25 . Then print the value of\n",
    "# age along with its data type using the type() function."
   ]
  },
  {
   "cell_type": "code",
   "execution_count": 2,
   "id": "f0c64daa-fc09-49d7-9c27-330f35a5a648",
   "metadata": {},
   "outputs": [
    {
     "name": "stdout",
     "output_type": "stream",
     "text": [
      "25\n"
     ]
    },
    {
     "data": {
      "text/plain": [
       "int"
      ]
     },
     "execution_count": 2,
     "metadata": {},
     "output_type": "execute_result"
    }
   ],
   "source": [
    "age = 25 \n",
    "print(age)\n",
    "type(age)"
   ]
  },
  {
   "cell_type": "code",
   "execution_count": 3,
   "id": "affc3387-c289-4bb6-a527-f0bfe1840bb5",
   "metadata": {},
   "outputs": [],
   "source": [
    "# Assign the number 12.5 to a variable price . Print both the variable and its\n",
    "# data type. Then assign the value 12 to the same variable and print its data\n",
    "# type again. What do you observe?"
   ]
  },
  {
   "cell_type": "code",
   "execution_count": 6,
   "id": "5de13b06-55bb-407c-a39e-43e1b7d84f8f",
   "metadata": {},
   "outputs": [
    {
     "name": "stdout",
     "output_type": "stream",
     "text": [
      "Value of price: 12.5\n",
      "type of price: <class 'float'>\n",
      "value of price: 12\n",
      "type of price: <class 'int'>\n"
     ]
    }
   ],
   "source": [
    "price = 12.5\n",
    "print(\"Value of price:\", price)\n",
    "print(\"type of price:\", type(price))\n",
    "\n",
    "price = 12\n",
    "print(\"value of price:\", price)\n",
    "print(\"type of price:\", type(price))"
   ]
  },
  {
   "cell_type": "code",
   "execution_count": 7,
   "id": "f7009511-4a07-43d0-b0b8-3340a077e80d",
   "metadata": {},
   "outputs": [],
   "source": [
    "# Create a variable is_raining and set it to True . Print the value of the variable\n",
    "# along with its type. Then set is_raining to False and print the new value and\n",
    "# type."
   ]
  },
  {
   "cell_type": "code",
   "execution_count": 10,
   "id": "983b934e-fe0b-4927-984b-79fe4dd76ad1",
   "metadata": {},
   "outputs": [
    {
     "name": "stdout",
     "output_type": "stream",
     "text": [
      "True\n",
      "False\n"
     ]
    },
    {
     "data": {
      "text/plain": [
       "bool"
      ]
     },
     "execution_count": 10,
     "metadata": {},
     "output_type": "execute_result"
    }
   ],
   "source": [
    "is_raining = True\n",
    "print(is_raining)\n",
    "type(is_raining)\n",
    "\n",
    "is_raining = False \n",
    "print(is_raining)\n",
    "type(is_raining)"
   ]
  },
  {
   "cell_type": "code",
   "execution_count": 11,
   "id": "a325756d-2dde-4b3b-be52-5bf1c768b246",
   "metadata": {},
   "outputs": [],
   "source": [
    "# Create a variable my_name and store your full name in it as a string. Then\n",
    "# print the value of my_name using single quotes ' ."
   ]
  },
  {
   "cell_type": "code",
   "execution_count": 16,
   "id": "86e20eb2-01c7-422a-af2c-0bd7447b9d51",
   "metadata": {},
   "outputs": [
    {
     "data": {
      "text/plain": [
       "'Vaishnavi Madhukar Gunjal'"
      ]
     },
     "execution_count": 16,
     "metadata": {},
     "output_type": "execute_result"
    }
   ],
   "source": [
    "my_name = \"Vaishnavi Madhukar Gunjal\"\n",
    "my_name"
   ]
  },
  {
   "cell_type": "code",
   "execution_count": 17,
   "id": "7f543217-fa28-42c7-b744-15b5a680acc5",
   "metadata": {},
   "outputs": [],
   "source": [
    "# Write a Python program that asks the user for their name and age using the\n",
    "# input() function. Store the inputs in variables and print a sentence like\n",
    "# \"Hello, [Name]! You are [Age] years old.\" Ensure you cast the age to an\n",
    "# integer."
   ]
  },
  {
   "cell_type": "code",
   "execution_count": 19,
   "id": "245293ed-1f86-443d-929a-26b4bb7e5e09",
   "metadata": {},
   "outputs": [
    {
     "name": "stdin",
     "output_type": "stream",
     "text": [
      "Enter your name  Vaishnavi\n",
      "Enter your age  22\n"
     ]
    },
    {
     "name": "stdout",
     "output_type": "stream",
     "text": [
      "Hello, Vaishnavi ! You are, 22  years old.\n"
     ]
    }
   ],
   "source": [
    "name = str(input(\"Enter your name \"  ))\n",
    "age = int(input(\"Enter your age \"   ))\n",
    "print(\"Hello,\", name,\"! You are\" ,age,\" years old.\")"
   ]
  },
  {
   "cell_type": "code",
   "execution_count": 21,
   "id": "30f63893-eea9-4a32-8ce7-f0481ba51655",
   "metadata": {},
   "outputs": [],
   "source": [
    "# Create two variables x and y and assign them the values 10 and 3.5 ,\n",
    "# respectively. Print their values and types. Then, create a new variable\n",
    "# sum_xy and store the sum of x and y . Print the result and its type."
   ]
  },
  {
   "cell_type": "code",
   "execution_count": 30,
   "id": "985a5d89-0eee-44ad-ad5c-398daa657990",
   "metadata": {},
   "outputs": [
    {
     "name": "stdout",
     "output_type": "stream",
     "text": [
      "value of x : 10 type : <class 'int'>\n",
      "value of y : 3.5 type : <class 'float'>\n",
      "value : 13.5\n"
     ]
    },
    {
     "data": {
      "text/plain": [
       "float"
      ]
     },
     "execution_count": 30,
     "metadata": {},
     "output_type": "execute_result"
    }
   ],
   "source": [
    "x = 10\n",
    "y = 3.5\n",
    "print('value of x :',x,'type :' ,type(x) )\n",
    "print('value of y :',y,'type :' ,type(y) )\n",
    "\n",
    "\n",
    "sum_xy = x + y\n",
    "\n",
    "print('value :' ,sum_xy)\n",
    "type(sum_xy)"
   ]
  },
  {
   "cell_type": "code",
   "execution_count": 31,
   "id": "407eb108-8261-4dcf-9f25-a0bc11ddf4e1",
   "metadata": {},
   "outputs": [],
   "source": [
    "# Using the type() function, check and print the data type of the following:\n",
    "# 45.0\n",
    "# \"hello\"\n",
    "# None\n",
    "# False"
   ]
  },
  {
   "cell_type": "code",
   "execution_count": 38,
   "id": "22f35fdf-ec64-43fb-890a-b538a2eea661",
   "metadata": {},
   "outputs": [
    {
     "name": "stdout",
     "output_type": "stream",
     "text": [
      "45.0 <class 'float'>\n",
      "hello <class 'str'>\n",
      "None <class 'NoneType'>\n",
      "False <class 'bool'>\n"
     ]
    }
   ],
   "source": [
    "a = 45.0\n",
    "b = 'hello'\n",
    "c = None\n",
    "d = False\n",
    "print(a,   type(45.0))\n",
    "print(b,   type('hello'))\n",
    "print(c,   type(None))\n",
    "print(d,   type(False))"
   ]
  },
  {
   "cell_type": "code",
   "execution_count": 39,
   "id": "9e839358-8a84-4bbb-aa79-1e92794094f6",
   "metadata": {},
   "outputs": [],
   "source": [
    "# Write a Python program to print three strings \"apple\" , \"banana\" , and \"cherry\"\n",
    "# on the same line, separated by a space. Then modify the program to\n",
    "# separate the strings using a comma , instead of a space."
   ]
  },
  {
   "cell_type": "code",
   "execution_count": 40,
   "id": "458f2958-e58b-41c5-9f5a-00e3b6798f60",
   "metadata": {},
   "outputs": [
    {
     "name": "stdout",
     "output_type": "stream",
     "text": [
      "apple banana cherry\n",
      "apple, banana, cherry\n"
     ]
    }
   ],
   "source": [
    "print(\"apple\", \"banana\", \"cherry\")\n",
    "print(\"apple\", \"banana\", \"cherry\", sep=\", \")\n"
   ]
  },
  {
   "cell_type": "code",
   "execution_count": 41,
   "id": "bef9ae9e-726d-4b0a-8a19-8b1c5a0428d8",
   "metadata": {},
   "outputs": [],
   "source": [
    "# Create a variable big_number and assign it a very large integer value (e.g.,\n",
    "# 987654321987654321 ). Print the value and its type. What do you notice about\n",
    "# the size of the number?"
   ]
  },
  {
   "cell_type": "code",
   "execution_count": 44,
   "id": "2ba39e4a-2de0-4faa-92d8-674694fbe34a",
   "metadata": {},
   "outputs": [
    {
     "name": "stdout",
     "output_type": "stream",
     "text": [
      "987654321987654321\n"
     ]
    },
    {
     "data": {
      "text/plain": [
       "int"
      ]
     },
     "execution_count": 44,
     "metadata": {},
     "output_type": "execute_result"
    }
   ],
   "source": [
    "big_number = 987654321987654321\n",
    "print( big_number)\n",
    "type(big_number)"
   ]
  },
  {
   "cell_type": "code",
   "execution_count": 45,
   "id": "6e7471f7-51fb-43a5-ab64-8a7e3f715b8d",
   "metadata": {},
   "outputs": [],
   "source": [
    "# Write a Python program that prints the result of multiplying two floats (e.g.,\n",
    "# 2.5 and 3.7 ). Then check and print the data type of the result."
   ]
  },
  {
   "cell_type": "code",
   "execution_count": 46,
   "id": "8d251735-0536-4b78-ba95-dcea442c062a",
   "metadata": {},
   "outputs": [
    {
     "name": "stdout",
     "output_type": "stream",
     "text": [
      "9.25\n"
     ]
    },
    {
     "data": {
      "text/plain": [
       "float"
      ]
     },
     "execution_count": 46,
     "metadata": {},
     "output_type": "execute_result"
    }
   ],
   "source": [
    "a = 2.5\n",
    "b = 3.7\n",
    "c = a*b\n",
    "print(c)\n",
    "type(c)"
   ]
  },
  {
   "cell_type": "code",
   "execution_count": 47,
   "id": "24fe3e2b-84b8-4815-b397-a39b5dd4b039",
   "metadata": {},
   "outputs": [],
   "source": [
    "# Create a variable x with the value 15 . Perform floored division by 4 and\n",
    "# print the result. What is the difference between floored division and normal\n",
    "# division?"
   ]
  },
  {
   "cell_type": "code",
   "execution_count": 51,
   "id": "b1a46e91-e0fd-4801-8b90-2b3367af6bd1",
   "metadata": {},
   "outputs": [
    {
     "data": {
      "text/plain": [
       "3"
      ]
     },
     "execution_count": 51,
     "metadata": {},
     "output_type": "execute_result"
    }
   ],
   "source": [
    "x = 15\n",
    "x//4 \n",
    "\n",
    "# Normal Division always returns a floating-point number\n",
    "# Floor Division return a round down number "
   ]
  },
  {
   "cell_type": "code",
   "execution_count": 52,
   "id": "afd2b91f-e4fc-4d59-80ee-25ec5a89c7e5",
   "metadata": {},
   "outputs": [],
   "source": [
    "# Write a program to calculate 8 ** 2 and 16 ** 0.5 . Print both results and\n",
    "# describe what each represents."
   ]
  },
  {
   "cell_type": "code",
   "execution_count": 54,
   "id": "af56a1a2-e12e-49eb-9312-8652c3898efb",
   "metadata": {},
   "outputs": [
    {
     "name": "stdout",
     "output_type": "stream",
     "text": [
      "64\n",
      "4.0\n"
     ]
    }
   ],
   "source": [
    "print(8**2)\n",
    "print(16**0.5)"
   ]
  },
  {
   "cell_type": "code",
   "execution_count": 55,
   "id": "becea538-c36e-4e16-8df6-f122cd5fc41f",
   "metadata": {},
   "outputs": [],
   "source": [
    "# Use arithmetic operators to solve the following expression: 20 - 5 * 3 + 8 /\n",
    "# 4 . Use parentheses to make sure the addition happens before\n",
    "# multiplication. Print the output."
   ]
  },
  {
   "cell_type": "code",
   "execution_count": 65,
   "id": "5ed3d7e6-0e0e-49d3-8bdf-d0230ac5029d",
   "metadata": {},
   "outputs": [
    {
     "name": "stdout",
     "output_type": "stream",
     "text": [
      "7.0\n",
      "-2.0\n"
     ]
    }
   ],
   "source": [
    "a = 20 - 5 * 3 + 8 /4\n",
    "print(a)\n",
    "a = 20 - (5 + 3) * 3 + 8 / 4\n",
    "print(a)"
   ]
  },
  {
   "cell_type": "code",
   "execution_count": 66,
   "id": "15fe9f6b-4cf9-4d72-90d2-e3bda8d68ec3",
   "metadata": {},
   "outputs": [],
   "source": [
    "# Assign the value 7 to a variable num . Convert it to a float and print the\n",
    "# result. What is the difference between 7 and 7.0 ?"
   ]
  },
  {
   "cell_type": "code",
   "execution_count": 69,
   "id": "137b9cce-1c56-456d-87a8-c12f39c776bd",
   "metadata": {},
   "outputs": [
    {
     "name": "stdout",
     "output_type": "stream",
     "text": [
      "7.0\n"
     ]
    },
    {
     "data": {
      "text/plain": [
       "float"
      ]
     },
     "execution_count": 69,
     "metadata": {},
     "output_type": "execute_result"
    }
   ],
   "source": [
    "n = 7\n",
    "n1= float(n)\n",
    "print(n1)\n",
    "type(n1)"
   ]
  },
  {
   "cell_type": "code",
   "execution_count": 70,
   "id": "54cb32a9-9862-4059-ae89-889cd3bdcc0b",
   "metadata": {},
   "outputs": [],
   "source": [
    "# Use a comparison operator to check if 100 is greater than 50 . Print the\n",
    "# result and indicate what type of value this is."
   ]
  },
  {
   "cell_type": "code",
   "execution_count": 72,
   "id": "6040ec3d-1bf2-45c9-b362-347855d1f0fe",
   "metadata": {},
   "outputs": [
    {
     "name": "stdout",
     "output_type": "stream",
     "text": [
      "True\n"
     ]
    },
    {
     "data": {
      "text/plain": [
       "bool"
      ]
     },
     "execution_count": 72,
     "metadata": {},
     "output_type": "execute_result"
    }
   ],
   "source": [
    "a = 100 > 50\n",
    "print(a)\n",
    "type(a)"
   ]
  },
  {
   "cell_type": "code",
   "execution_count": 73,
   "id": "ab3c3cab-d96c-4e5e-8f14-5dfa08a5b40d",
   "metadata": {},
   "outputs": [],
   "source": [
    "# Assign True to a variable is_sunny and False to is_weekend . Use logical\n",
    "# operators to check if it is sunny and the weekend ( is_sunny and is_weekend ).\n",
    "# Print the result."
   ]
  },
  {
   "cell_type": "code",
   "execution_count": 74,
   "id": "573148cd-4906-499e-b700-8de428b92685",
   "metadata": {},
   "outputs": [
    {
     "name": "stdout",
     "output_type": "stream",
     "text": [
      "Is it sunny and the weekend? False\n"
     ]
    }
   ],
   "source": [
    "is_sunny = True\n",
    "is_weekend = False\n",
    "result = is_sunny and is_weekend\n",
    "print(\"Is it sunny and the weekend?\", result)"
   ]
  },
  {
   "cell_type": "code",
   "execution_count": 75,
   "id": "c64c93e6-deaf-4726-9ad9-6d84f88e3f41",
   "metadata": {},
   "outputs": [],
   "source": [
    "# Create a variable password and set it to \"my_password123\" . Ask the user to input\n",
    "# a password and print True if the input matches the value of password ,\n",
    "# otherwise print False ."
   ]
  },
  {
   "cell_type": "code",
   "execution_count": 88,
   "id": "e75f62c7-13f6-4f27-b8ce-a8286931ebfa",
   "metadata": {},
   "outputs": [
    {
     "name": "stdin",
     "output_type": "stream",
     "text": [
      "Enter password :  a\n"
     ]
    },
    {
     "name": "stdout",
     "output_type": "stream",
     "text": [
      "password is incorrerct\n"
     ]
    }
   ],
   "source": [
    "password = \"my_password123\"\n",
    "a = input(\"Enter password : \")\n",
    "if a == password :\n",
    "    print(\"Password is correct \")\n",
    "else :\n",
    "    print(\"password is incorrerct\")"
   ]
  },
  {
   "cell_type": "code",
   "execution_count": 81,
   "id": "6e541edc-0101-4afe-ab39-a3910b172990",
   "metadata": {},
   "outputs": [],
   "source": [
    "# Assign the value 50 to a variable marks . Increment the value of marks by 5\n",
    "# using the += operator, then print the new value."
   ]
  },
  {
   "cell_type": "code",
   "execution_count": 89,
   "id": "eabbda31-d9fb-4b5e-bb50-9b892b2999bf",
   "metadata": {},
   "outputs": [
    {
     "data": {
      "text/plain": [
       "55"
      ]
     },
     "execution_count": 89,
     "metadata": {},
     "output_type": "execute_result"
    }
   ],
   "source": [
    "marks = 50 \n",
    "marks += 5\n",
    "marks\n"
   ]
  },
  {
   "cell_type": "raw",
   "id": "3d6ee206-a222-4c6a-a346-72c041a3809d",
   "metadata": {},
   "source": []
  },
  {
   "cell_type": "markdown",
   "id": "213f7968-4767-469f-a876-6aa21491ab88",
   "metadata": {},
   "source": [
    "<!-- Write a program to check if the value of a = 0 and b = 10 satisfies a or b .\n",
    "Print the output and explain why it gives that result. -->"
   ]
  },
  {
   "cell_type": "code",
   "execution_count": 90,
   "id": "3246a896-d7dd-451d-a214-c523846557ec",
   "metadata": {},
   "outputs": [],
   "source": [
    "# Write a program to check if the value of a = 0 and b = 10 satisfies a or b .\n",
    "# Print the output and explain why it gives that result."
   ]
  },
  {
   "cell_type": "code",
   "execution_count": 92,
   "id": "3d1964ed-e6e5-45f4-afb8-a588ff0fed71",
   "metadata": {},
   "outputs": [
    {
     "name": "stdout",
     "output_type": "stream",
     "text": [
      "10\n"
     ]
    }
   ],
   "source": [
    "a = 0 \n",
    "b = 10 \n",
    "c = a or b\n",
    "print(c)\n",
    "\n",
    "# a is 0 and in python 0 is falsy and other no is truthy ,so b is 10 then it will return 10 "
   ]
  },
  {
   "cell_type": "code",
   "execution_count": 97,
   "id": "f0d40ca7-d20a-4a2d-b280-2082164553bb",
   "metadata": {},
   "outputs": [],
   "source": [
    "# Use not to negate the value of False and print the result. Explain what the\n",
    "# not operator does in Python."
   ]
  },
  {
   "cell_type": "code",
   "execution_count": 98,
   "id": "60828f85-876d-437f-8a4d-ca299d81cdc2",
   "metadata": {},
   "outputs": [
    {
     "name": "stdout",
     "output_type": "stream",
     "text": [
      "True\n"
     ]
    }
   ],
   "source": [
    "a = not False\n",
    "print(a)"
   ]
  },
  {
   "cell_type": "code",
   "execution_count": 99,
   "id": "004874d7-fc3d-4f45-bb64-97b6c998f8a0",
   "metadata": {},
   "outputs": [],
   "source": [
    "# Write a Python program that checks if a number entered by the user is even\n",
    "# or odd. Print \"Even\" if the number is even and \"Odd\" if it is odd."
   ]
  },
  {
   "cell_type": "code",
   "execution_count": 101,
   "id": "1716ba5e-d560-49c1-a574-42745542f9c3",
   "metadata": {},
   "outputs": [
    {
     "name": "stdin",
     "output_type": "stream",
     "text": [
      "enter the no   11\n"
     ]
    },
    {
     "name": "stdout",
     "output_type": "stream",
     "text": [
      "no is odd : \n"
     ]
    }
   ],
   "source": [
    "enter_no = int(input(\"enter the no : \"))\n",
    "\n",
    "if enter_no % 2 == 0:\n",
    "  print(\"no is even :\")\n",
    "else :\n",
    "  print(\"no is odd : \")"
   ]
  },
  {
   "cell_type": "code",
   "execution_count": 102,
   "id": "7ae6974a-baa2-46db-b8a7-f67a140c5c83",
   "metadata": {},
   "outputs": [],
   "source": [
    "# Create a program that prompts the user for their age and prints whether\n",
    "# they are a child (0-12), teenager (13-19), or adult (20 and above)."
   ]
  },
  {
   "cell_type": "code",
   "execution_count": 103,
   "id": "2d559f0f-e9a5-4411-90b3-e48dcbf81e02",
   "metadata": {},
   "outputs": [
    {
     "name": "stdin",
     "output_type": "stream",
     "text": [
      "Enter your age:  22\n"
     ]
    },
    {
     "name": "stdout",
     "output_type": "stream",
     "text": [
      "You are an adult.\n"
     ]
    }
   ],
   "source": [
    "age = int(input(\"Enter your age: \"))\n",
    "if 0 <= age <= 12:\n",
    "    print(\"You are a child.\")\n",
    "elif 13 <= age <= 19:\n",
    "    print(\"You are a teenager.\")\n",
    "elif age >= 20:\n",
    "    print(\"You are an adult.\")\n",
    "else:\n",
    "    print(\"Invalid age entered.\")"
   ]
  },
  {
   "cell_type": "code",
   "execution_count": 104,
   "id": "610a399f-8409-49f6-ba89-f10cea0a0b4f",
   "metadata": {},
   "outputs": [],
   "source": [
    "# Write a program that takes two numbers as input from the user and prints\n",
    "# which number is larger. If both numbers are equal, print \"Both numbers are\n",
    "# equal.\""
   ]
  },
  {
   "cell_type": "code",
   "execution_count": 105,
   "id": "26af3f42-be6c-4a33-a61c-4d02e106c2db",
   "metadata": {},
   "outputs": [
    {
     "name": "stdin",
     "output_type": "stream",
     "text": [
      "Enter 1 st No :  10\n",
      "Enter 2 nd No :  10\n"
     ]
    },
    {
     "name": "stdout",
     "output_type": "stream",
     "text": [
      "Both numbers are equal\n"
     ]
    }
   ],
   "source": [
    "a = int(input(\"Enter 1 st No : \"))\n",
    "b = int(input(\"Enter 2 nd No : \"))\n",
    "if a > b :\n",
    "    print(a , \" is  greater than\", b)\n",
    "elif a < b :\n",
    "    print(a , \" is smaller than \" , b)\n",
    "elif a == b:\n",
    "    print(\"Both numbers are equal\")"
   ]
  },
  {
   "cell_type": "code",
   "execution_count": 106,
   "id": "e8c35c7f-0b47-48b9-9493-d6872350dfc3",
   "metadata": {},
   "outputs": [],
   "source": [
    "# Create a program that checks if a user-entered password matches the\n",
    "# string \"securePassword\". Print \"Access Granted\" if it matches, otherwise\n",
    "# print \"Access Denied.\""
   ]
  },
  {
   "cell_type": "code",
   "execution_count": 108,
   "id": "e91b8799-f7f3-4720-904a-a99ec044e3eb",
   "metadata": {},
   "outputs": [
    {
     "name": "stdin",
     "output_type": "stream",
     "text": [
      "Enter your password:  s\n"
     ]
    },
    {
     "name": "stdout",
     "output_type": "stream",
     "text": [
      "Access Denied\n"
     ]
    }
   ],
   "source": [
    "correct_password = \"securepassword\"\n",
    "user_password = input(\"Enter your password: \")\n",
    "if user_password == correct_password:\n",
    "    print(\"Access Granted\")\n",
    "else:\n",
    "    print(\"Access Denied\")"
   ]
  },
  {
   "cell_type": "code",
   "execution_count": null,
   "id": "5a6a42dc-19f5-4a51-b761-44e5e136a93f",
   "metadata": {},
   "outputs": [],
   "source": [
    "# Write a program that takes a score from the user (0-100) and prints the\n",
    "# corresponding grade:\n",
    "# A for 90-100\n",
    "# B for 80-89\n",
    "# C for 70-79\n",
    "# D for 60-69\n",
    "# F for below 60"
   ]
  },
  {
   "cell_type": "code",
   "execution_count": 110,
   "id": "ff233abd-2ce5-489a-9e89-13d1334a127c",
   "metadata": {},
   "outputs": [
    {
     "name": "stdin",
     "output_type": "stream",
     "text": [
      "enter the marks :  50\n"
     ]
    },
    {
     "name": "stdout",
     "output_type": "stream",
     "text": [
      "F\n"
     ]
    }
   ],
   "source": [
    "n = int(input(\"enter the marks : \"))\n",
    "\n",
    "if 90 <= n <= 100:\n",
    "  print(\"A\")\n",
    "elif 80 <= n <=89:\n",
    "  print(\"B\")\n",
    "elif 70 <= n <=79:\n",
    "  print(\"C\")\n",
    "elif 60<= n <=69:\n",
    "  print(\"D\")\n",
    "else :\n",
    "  print(\"F\")"
   ]
  },
  {
   "cell_type": "code",
   "execution_count": 111,
   "id": "9238b02e-0088-4875-a240-4e615bc838f1",
   "metadata": {},
   "outputs": [],
   "source": [
    "# Create a program that asks the user for a number and checks if it is\n",
    "# positive, negative, or zero. Print the corresponding message."
   ]
  },
  {
   "cell_type": "code",
   "execution_count": 115,
   "id": "130d3176-d97a-4e71-99a4-1feb8949704f",
   "metadata": {},
   "outputs": [
    {
     "name": "stdin",
     "output_type": "stream",
     "text": [
      "enter the no :  0\n"
     ]
    },
    {
     "name": "stdout",
     "output_type": "stream",
     "text": [
      "zero\n"
     ]
    }
   ],
   "source": [
    "n = int(input(\"enter the no : \"))\n",
    "\n",
    "if n>0 :\n",
    "  print(\"positive\")\n",
    "elif  n<0:\n",
    "  print(\"negative\")\n",
    "else :\n",
    "  print(\"zero\")"
   ]
  },
  {
   "cell_type": "code",
   "execution_count": 116,
   "id": "21f44b78-04d9-4979-96b7-ab7b58e33b2d",
   "metadata": {},
   "outputs": [],
   "source": [
    "# Write a program that takes three numbers from the user and determines the\n",
    "# largest of the three. Print the largest number."
   ]
  },
  {
   "cell_type": "code",
   "execution_count": 125,
   "id": "d4a504e1-3fba-4708-9842-9efaff15cad0",
   "metadata": {},
   "outputs": [
    {
     "name": "stdin",
     "output_type": "stream",
     "text": [
      "Enter first number:  2\n",
      "Enter second number:  4\n",
      "Enter third number:  1\n"
     ]
    },
    {
     "name": "stdout",
     "output_type": "stream",
     "text": [
      "4\n"
     ]
    }
   ],
   "source": [
    "num1 = input(\"Enter first number: \")\n",
    "num2 = input(\"Enter second number: \")\n",
    "num3 = input(\"Enter third number: \")\n",
    "largest = max(num1, num2, num3)\n",
    "print( largest)"
   ]
  },
  {
   "cell_type": "code",
   "execution_count": 126,
   "id": "9ab0847f-4936-442d-82a6-0dfbcf1c064f",
   "metadata": {},
   "outputs": [],
   "source": [
    "# Create a program that checks if a user-entered character is a vowel (a, e, i,\n",
    "# o, u) or a consonant. Print the corresponding message."
   ]
  },
  {
   "cell_type": "code",
   "execution_count": 129,
   "id": "cc5aef19-73d9-4464-b9e2-ca35e608b600",
   "metadata": {},
   "outputs": [
    {
     "name": "stdin",
     "output_type": "stream",
     "text": [
      "Enter a character:  e\n"
     ]
    },
    {
     "name": "stdout",
     "output_type": "stream",
     "text": [
      "It is a vowel.\n"
     ]
    }
   ],
   "source": [
    "char = input(\"Enter a character: \").lower()\n",
    "\n",
    "# Check if it's a vowel or consonant\n",
    "if char in \"aeiou\":\n",
    "    print(\"It is a vowel.\")\n",
    "else:\n",
    "    print(\"It is a consonant.\")"
   ]
  },
  {
   "cell_type": "code",
   "execution_count": 130,
   "id": "eda188e1-a01b-4205-b40a-bb4257ef6858",
   "metadata": {},
   "outputs": [],
   "source": [
    "# Write a program that checks if a given year is a leap year. A year is a leap\n",
    "# year if it is divisible by 4, except for years that are divisible by 100 but not\n",
    "# divisible by 400."
   ]
  },
  {
   "cell_type": "code",
   "execution_count": 134,
   "id": "034beaac-81ed-44d0-b65d-08e69a96ecf8",
   "metadata": {},
   "outputs": [
    {
     "name": "stdin",
     "output_type": "stream",
     "text": [
      " 2000\n"
     ]
    },
    {
     "name": "stdout",
     "output_type": "stream",
     "text": [
      "year is leap\n"
     ]
    }
   ],
   "source": [
    "n=int(input())\n",
    "if n % 100==0:\n",
    "    print(\"year is leap\")\n",
    "elif n % 4 == 0 :\n",
    "    print(\" year is Leap\")\n",
    "else :\n",
    "    print(\"year is not leap year\")"
   ]
  },
  {
   "cell_type": "code",
   "execution_count": 135,
   "id": "9db21606-934c-482b-9eea-68bb955b21d1",
   "metadata": {},
   "outputs": [],
   "source": [
    "# Create a program that prompts the user for a temperature in Celsius and\n",
    "# converts it to Fahrenheit. If the converted temperature is greater than 100°F,\n",
    "# print \"It's boiling!\" Otherwise, print \"It's not boiling yet.\""
   ]
  },
  {
   "cell_type": "code",
   "execution_count": 136,
   "id": "6fe1a8af-9499-4c89-a50f-2a9b2f6f87df",
   "metadata": {},
   "outputs": [
    {
     "name": "stdin",
     "output_type": "stream",
     "text": [
      "Enter temperature in Celsius:  100\n"
     ]
    },
    {
     "name": "stdout",
     "output_type": "stream",
     "text": [
      "Temperature in Fahrenheit: 212.0\n",
      "It's boiling!\n"
     ]
    }
   ],
   "source": [
    "celsius = float(input(\"Enter temperature in Celsius: \"))\n",
    "fahrenheit = (celsius * 9/5) + 32\n",
    "print(\"Temperature in Fahrenheit:\", fahrenheit)\n",
    "if fahrenheit > 100:\n",
    "    print(\"It's boiling!\")\n",
    "else:\n",
    "    print(\"It's not boiling yet.\")"
   ]
  },
  {
   "cell_type": "code",
   "execution_count": 137,
   "id": "6f993d46-cff3-462e-b882-6b12f230b8bb",
   "metadata": {},
   "outputs": [],
   "source": [
    "# Write a program that takes a temperature in Celsius and prints whether it is \"Freezing\",\n",
    "# \"Cold\", \"Warm\", or \"Hot\" based on predefined ranges."
   ]
  },
  {
   "cell_type": "code",
   "execution_count": 138,
   "id": "57419436-6699-4f9f-9f4a-69e0bd1a52ae",
   "metadata": {},
   "outputs": [
    {
     "name": "stdin",
     "output_type": "stream",
     "text": [
      "Enter temperature in Celsius:  31\n"
     ]
    },
    {
     "name": "stdout",
     "output_type": "stream",
     "text": [
      "Hot\n"
     ]
    }
   ],
   "source": [
    "celsius = float(input(\"Enter temperature in Celsius: \"))\n",
    "if celsius <= 0:\n",
    "    print(\"Freezing\")\n",
    "elif 1 <= celsius <= 15:\n",
    "    print(\"Cold\")\n",
    "elif 16 <= celsius <= 30:\n",
    "    print(\"Warm\")\n",
    "else:\n",
    "    print(\"Hot\")"
   ]
  },
  {
   "cell_type": "code",
   "execution_count": 139,
   "id": "cc07767d-7bc6-43da-a2b7-bc570ab01fe5",
   "metadata": {},
   "outputs": [],
   "source": [
    "# Create a program that checks if a number is divisible by 3 and/or 5 and prints appropriate\n",
    "# messages."
   ]
  },
  {
   "cell_type": "code",
   "execution_count": 142,
   "id": "1ef94f82-9a7c-4c6d-8a86-e060ea327057",
   "metadata": {},
   "outputs": [
    {
     "name": "stdin",
     "output_type": "stream",
     "text": [
      "Enter a number:  10\n"
     ]
    },
    {
     "name": "stdout",
     "output_type": "stream",
     "text": [
      "Divisible by 5\n"
     ]
    }
   ],
   "source": [
    "num = int(input(\"Enter a number: \"))\n",
    "if num % 3 == 0 and num % 5 == 0:\n",
    "    print(\"Divisible by both 3 and 5\")\n",
    "elif num % 3 == 0:\n",
    "    print(\"Divisible by 3\")\n",
    "elif num % 5 == 0:\n",
    "    print(\"Divisible by 5\")\n",
    "else:\n",
    "    print(\"Not divisible by 3 or 5\")"
   ]
  },
  {
   "cell_type": "code",
   "execution_count": null,
   "id": "b17679c1-5bfd-4de8-988c-3a4ba0e6aeb3",
   "metadata": {},
   "outputs": [],
   "source": [
    "num1 = float(input(\"Enter first number: \"))\n",
    "operator = input(\"Enter operator (+, -, *, /): \")\n",
    "num2 = float(input(\"Enter second number: \"))\n",
    "if operator == \"+\":\n",
    "    result = num1 + num2\n",
    "    print(\"Result:\", result)\n",
    "elif operator == \"-\":\n",
    "    result = num1 - num2\n",
    "    print(\"Result:\", result)\n",
    "elif operator == \"*\":\n",
    "    result = num1 * num2\n",
    "    print(\"Result:\", result)\n",
    "elif operator == \"/\":\n",
    "    if num2 == 0:\n",
    "        print(\"Error: Division by zero is not allowed.\")\n",
    "    else:\n",
    "        result = num1 / num2\n",
    "        print(\"Result:\", result)\n",
    "else:\n",
    "    print(\"Invalid operator! Please use +, -, *, or /.\")"
   ]
  }
 ],
 "metadata": {
  "kernelspec": {
   "display_name": "Python 3 (ipykernel)",
   "language": "python",
   "name": "python3"
  },
  "language_info": {
   "codemirror_mode": {
    "name": "ipython",
    "version": 3
   },
   "file_extension": ".py",
   "mimetype": "text/x-python",
   "name": "python",
   "nbconvert_exporter": "python",
   "pygments_lexer": "ipython3",
   "version": "3.13.1"
  }
 },
 "nbformat": 4,
 "nbformat_minor": 5
}
