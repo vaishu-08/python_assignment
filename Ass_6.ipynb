{
 "cells": [
  {
   "cell_type": "code",
   "execution_count": 1,
   "id": "9619b102-2060-4721-ad00-7ed4c616fcb8",
   "metadata": {},
   "outputs": [],
   "source": [
    "# Write a lambda function that takes two numbers and returns their product. Assign it to a\n",
    "# variable and call it with 5 and 7."
   ]
  },
  {
   "cell_type": "code",
   "execution_count": 2,
   "id": "68ba665f-5d16-4ee5-a84e-5f78ec083dc8",
   "metadata": {},
   "outputs": [],
   "source": [
    "multiply = lambda x,y : x* y\n",
    "result = multiply(5,7)\n"
   ]
  },
  {
   "cell_type": "code",
   "execution_count": 3,
   "id": "a6dbbac7-ef72-464e-8fa2-414c4c45a5de",
   "metadata": {},
   "outputs": [
    {
     "name": "stdout",
     "output_type": "stream",
     "text": [
      "35\n"
     ]
    }
   ],
   "source": [
    "print(result)"
   ]
  },
  {
   "cell_type": "code",
   "execution_count": 4,
   "id": "6bf5856e-e56d-4ba0-ab83-9611db1204e4",
   "metadata": {},
   "outputs": [],
   "source": [
    "# Use map() to square every number in a list [1, 2, 3, 4, 5]."
   ]
  },
  {
   "cell_type": "code",
   "execution_count": 7,
   "id": "bd05bcc6-4881-453d-b0ec-098d03dff3f3",
   "metadata": {},
   "outputs": [],
   "source": [
    "list_1 = [1,2,3,4,5]\n",
    "square = list(map(lambda x : x**2,list_1))"
   ]
  },
  {
   "cell_type": "code",
   "execution_count": 9,
   "id": "5369ea73-4742-41f6-a9dd-9513f2cd3105",
   "metadata": {},
   "outputs": [
    {
     "name": "stdout",
     "output_type": "stream",
     "text": [
      "[1, 4, 9, 16, 25]\n"
     ]
    }
   ],
   "source": [
    "print(square)"
   ]
  },
  {
   "cell_type": "code",
   "execution_count": 10,
   "id": "30881d5a-ce2c-4ebc-93e9-8e0dfc197c1e",
   "metadata": {},
   "outputs": [],
   "source": [
    "# Use filter() to extract only the even numbers from the list [10, 15, 20, 25, 30]."
   ]
  },
  {
   "cell_type": "code",
   "execution_count": 11,
   "id": "8af36c5e-cdb3-4fb6-9fcf-43dbd15e3f05",
   "metadata": {},
   "outputs": [
    {
     "name": "stdout",
     "output_type": "stream",
     "text": [
      "[10, 20, 30]\n"
     ]
    }
   ],
   "source": [
    "numbers = [10,15,20,25,30]\n",
    "even_numbers = list(filter(lambda x : x % 2 == 0 , numbers))\n",
    "print(even_numbers)"
   ]
  },
  {
   "cell_type": "code",
   "execution_count": 12,
   "id": "c3e177ef-14b4-43d0-8fa9-79e426d6397a",
   "metadata": {},
   "outputs": [],
   "source": [
    "# Use reduce() from functools to calculate the product of numbers in [1, 2, 3, 4, 5]."
   ]
  },
  {
   "cell_type": "code",
   "execution_count": 13,
   "id": "9ef79e4b-f16e-4013-a525-9af6a9e75369",
   "metadata": {},
   "outputs": [],
   "source": [
    "from functools import reduce"
   ]
  },
  {
   "cell_type": "code",
   "execution_count": 15,
   "id": "54a73030-44d9-41eb-9f74-542cdd5183a3",
   "metadata": {},
   "outputs": [
    {
     "name": "stdout",
     "output_type": "stream",
     "text": [
      "120\n"
     ]
    }
   ],
   "source": [
    "numbers = [1,2,3,4,5]\n",
    "product_no = reduce(lambda x,y : x*y , numbers)\n",
    "print(product_no)"
   ]
  },
  {
   "cell_type": "code",
   "execution_count": 16,
   "id": "df077fdf-9c15-4e3d-a4b2-6f102d6b311f",
   "metadata": {},
   "outputs": [],
   "source": [
    "# Create a function with annotations that:\n",
    "# • takes an integer as input,\n",
    "\n",
    "# • returns a string saying whether it is \"Even\" or \"Odd\"."
   ]
  },
  {
   "cell_type": "code",
   "execution_count": 17,
   "id": "6d1d30b8-c349-40ed-804c-27c980a3869e",
   "metadata": {},
   "outputs": [],
   "source": [
    "def check_no(number):\n",
    "    if number % 2 == 0 :\n",
    "        print (\"even\")\n",
    "    else :\n",
    "        print(\"odd\")"
   ]
  },
  {
   "cell_type": "code",
   "execution_count": 18,
   "id": "13895da9-429c-4709-b91c-735e693862cd",
   "metadata": {},
   "outputs": [
    {
     "name": "stdout",
     "output_type": "stream",
     "text": [
      "odd\n"
     ]
    }
   ],
   "source": [
    "check_no(3)"
   ]
  },
  {
   "cell_type": "code",
   "execution_count": 19,
   "id": "93fbe15a-d061-4b9b-8e9b-a5802dc85bb8",
   "metadata": {},
   "outputs": [
    {
     "name": "stdout",
     "output_type": "stream",
     "text": [
      "even\n"
     ]
    }
   ],
   "source": [
    "check_no(30)"
   ]
  },
  {
   "cell_type": "code",
   "execution_count": 20,
   "id": "2bbaafd5-eb50-457d-a755-015abc0e6e79",
   "metadata": {},
   "outputs": [],
   "source": [
    "# Write a recursive function to compute the sum of all numbers from 1 to n."
   ]
  },
  {
   "cell_type": "code",
   "execution_count": 21,
   "id": "f960836d-84db-4681-85b1-291eabd8991c",
   "metadata": {},
   "outputs": [],
   "source": [
    "def sum_recursive(n):\n",
    "    if n == 1 :\n",
    "        return n\n",
    "    else :\n",
    "        return n + sum_recursive(n-1)"
   ]
  },
  {
   "cell_type": "code",
   "execution_count": 22,
   "id": "381eb5d7-9185-435c-9485-331adc65fb2f",
   "metadata": {},
   "outputs": [
    {
     "data": {
      "text/plain": [
       "21"
      ]
     },
     "execution_count": 22,
     "metadata": {},
     "output_type": "execute_result"
    }
   ],
   "source": [
    "sum_recursive(6)"
   ]
  },
  {
   "cell_type": "code",
   "execution_count": 23,
   "id": "9063c72e-8672-470f-848b-5d999e1c9d43",
   "metadata": {},
   "outputs": [],
   "source": [
    "# Write a function that returns different results using print, return, and yield. Call the\n",
    "# function and show how each type of output works."
   ]
  },
  {
   "cell_type": "code",
   "execution_count": null,
   "id": "416abc83-142c-4252-82d3-1d5b3bc837c9",
   "metadata": {},
   "outputs": [],
   "source": []
  }
 ],
 "metadata": {
  "kernelspec": {
   "display_name": "Python 3 (ipykernel)",
   "language": "python",
   "name": "python3"
  },
  "language_info": {
   "codemirror_mode": {
    "name": "ipython",
    "version": 3
   },
   "file_extension": ".py",
   "mimetype": "text/x-python",
   "name": "python",
   "nbconvert_exporter": "python",
   "pygments_lexer": "ipython3",
   "version": "3.13.1"
  }
 },
 "nbformat": 4,
 "nbformat_minor": 5
}
