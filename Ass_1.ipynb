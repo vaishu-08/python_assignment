{
 "cells": [
  {
   "cell_type": "code",
   "execution_count": 1,
   "id": "d184523e-cfc4-4a59-8301-3d1b40aa1ddd",
   "metadata": {},
   "outputs": [],
   "source": [
    "# Write a Python program to print your name and favourite colour on two\n",
    "# separate lines."
   ]
  },
  {
   "cell_type": "code",
   "execution_count": 2,
   "id": "7fea591a-578f-471b-8d8b-7cd8d2fb0517",
   "metadata": {},
   "outputs": [
    {
     "name": "stdout",
     "output_type": "stream",
     "text": [
      "Vaishnavi Gunjal\n",
      "Black\n"
     ]
    }
   ],
   "source": [
    "print('Vaishnavi Gunjal')\n",
    "print('Black')"
   ]
  },
  {
   "cell_type": "code",
   "execution_count": 3,
   "id": "55acdae1-7cdd-4b1a-9b37-0c75c1c0289d",
   "metadata": {},
   "outputs": [],
   "source": [
    "# Write a Python program that prints the result of adding 7 and 8."
   ]
  },
  {
   "cell_type": "code",
   "execution_count": 4,
   "id": "f6f79a2a-41a2-4235-9afb-16a88705c714",
   "metadata": {},
   "outputs": [
    {
     "data": {
      "text/plain": [
       "15"
      ]
     },
     "execution_count": 4,
     "metadata": {},
     "output_type": "execute_result"
    }
   ],
   "source": [
    "7+8\n"
   ]
  },
  {
   "cell_type": "code",
   "execution_count": 5,
   "id": "4d4c7d3f-2d62-4013-be39-150562e4db9c",
   "metadata": {},
   "outputs": [],
   "source": [
    "# Use the print function to display the following text exactly as it is:\n",
    "# Python is fun!\n",
    "# Let's learn together."
   ]
  },
  {
   "cell_type": "code",
   "execution_count": 6,
   "id": "4dec99b5-eb2e-4157-995e-f92c94172049",
   "metadata": {},
   "outputs": [
    {
     "name": "stdout",
     "output_type": "stream",
     "text": [
      "Python is fun!\n",
      " Let's learn together\n"
     ]
    }
   ],
   "source": [
    "print('Python is fun!')\n",
    "print(\" Let's learn together\")"
   ]
  },
  {
   "cell_type": "code",
   "execution_count": 7,
   "id": "50338140-d6de-43d4-b55c-ecdbe262d813",
   "metadata": {},
   "outputs": [],
   "source": [
    "# Write a Python program to calculate and print the result of multiplying 6 by\n",
    "# 9."
   ]
  },
  {
   "cell_type": "code",
   "execution_count": 8,
   "id": "77c5601d-187c-496e-987b-fcb882d0d236",
   "metadata": {},
   "outputs": [
    {
     "data": {
      "text/plain": [
       "54"
      ]
     },
     "execution_count": 8,
     "metadata": {},
     "output_type": "execute_result"
    }
   ],
   "source": [
    "6*9"
   ]
  },
  {
   "cell_type": "code",
   "execution_count": 9,
   "id": "55a8c2f7-f3b2-4d9c-9110-656fb490e80b",
   "metadata": {},
   "outputs": [],
   "source": [
    "# Write a Python program that prints the result of adding 5 + 5 and\n",
    "# multiplying 2 * 3 in a single line of code."
   ]
  },
  {
   "cell_type": "code",
   "execution_count": 12,
   "id": "1985762e-3563-4ffc-8858-f14cd9ad4e9c",
   "metadata": {},
   "outputs": [
    {
     "name": "stdout",
     "output_type": "stream",
     "text": [
      "addition =  10  multiplication =  6\n"
     ]
    }
   ],
   "source": [
    "print('addition = ' ,5+5  ,' multiplication = ', 2*3 )"
   ]
  },
  {
   "cell_type": "code",
   "execution_count": 11,
   "id": "f86b171e-f619-4891-bbd1-b2d3260fd205",
   "metadata": {},
   "outputs": [],
   "source": [
    "# Take the name A as input from the user and print \"Hello A\", where A is\n",
    "# the name in input."
   ]
  },
  {
   "cell_type": "code",
   "execution_count": 13,
   "id": "dd94d051-ac78-4972-9078-b7e19b1d0460",
   "metadata": {},
   "outputs": [
    {
     "name": "stdin",
     "output_type": "stream",
     "text": [
      "enter name  vaish\n"
     ]
    },
    {
     "name": "stdout",
     "output_type": "stream",
     "text": [
      "hello vaish\n"
     ]
    }
   ],
   "source": [
    "name = str(input(\"enter name \"))\n",
    "print(\"hello\" , name)"
   ]
  },
  {
   "cell_type": "code",
   "execution_count": 14,
   "id": "8c3a05eb-3f7a-4c7c-9cf1-fee77b5242ef",
   "metadata": {},
   "outputs": [],
   "source": [
    "# You have x rupees in your savings. You google pay y rupees, print your\n",
    "# bank balance\n"
   ]
  },
  {
   "cell_type": "code",
   "execution_count": 15,
   "id": "12b170e0-e60a-41e6-8c22-6686971a984a",
   "metadata": {},
   "outputs": [],
   "source": [
    "saving = 100\n",
    "g_pay = 40\n",
    "\n",
    "bank_balance =  saving - g_pay"
   ]
  },
  {
   "cell_type": "code",
   "execution_count": 16,
   "id": "5a026578-b697-45d3-b062-87da2cb6012d",
   "metadata": {},
   "outputs": [
    {
     "name": "stdout",
     "output_type": "stream",
     "text": [
      "60\n"
     ]
    }
   ],
   "source": [
    "print(bank_balance)"
   ]
  },
  {
   "cell_type": "code",
   "execution_count": 17,
   "id": "7108121d-3621-4109-848c-e32bb6f01420",
   "metadata": {},
   "outputs": [],
   "source": [
    "# Print the first five letters of the English alphabet i.e. A, B, C, D and E.\n",
    "# one below each other"
   ]
  },
  {
   "cell_type": "code",
   "execution_count": 18,
   "id": "de0452f6-17c7-40c0-a328-14298112f92c",
   "metadata": {},
   "outputs": [
    {
     "name": "stdout",
     "output_type": "stream",
     "text": [
      " A \n",
      " B \n",
      " C \n",
      " D \n",
      " E \n",
      " \n"
     ]
    }
   ],
   "source": [
    "print(' A \\n B \\n C \\n D \\n E \\n ')"
   ]
  },
  {
   "cell_type": "code",
   "execution_count": 19,
   "id": "f967d345-67c6-45e0-9479-3930a134b55e",
   "metadata": {},
   "outputs": [],
   "source": [
    "# Take two names A and B as input from the user, and print \"A says Hi to\n",
    "# B\" (Without quotations), where A and B are the names in input."
   ]
  },
  {
   "cell_type": "code",
   "execution_count": 24,
   "id": "20528f00-a4a3-4895-9a35-96cbb393b10c",
   "metadata": {},
   "outputs": [
    {
     "name": "stdin",
     "output_type": "stream",
     "text": [
      "enter 1 st name   vaish\n",
      "enter 2 nd name   ashu\n"
     ]
    },
    {
     "name": "stdout",
     "output_type": "stream",
     "text": [
      "vaish says Hi to ashu\n"
     ]
    }
   ],
   "source": [
    "n = str(input('enter 1 st name  '))\n",
    "m = str(input('enter 2 nd name  '))\n",
    "print(n, \"says Hi to\" ,m)"
   ]
  },
  {
   "cell_type": "code",
   "execution_count": null,
   "id": "aa6fdb56-803e-4d89-97ba-927fe9674769",
   "metadata": {},
   "outputs": [],
   "source": []
  }
 ],
 "metadata": {
  "kernelspec": {
   "display_name": "Python 3 (ipykernel)",
   "language": "python",
   "name": "python3"
  },
  "language_info": {
   "codemirror_mode": {
    "name": "ipython",
    "version": 3
   },
   "file_extension": ".py",
   "mimetype": "text/x-python",
   "name": "python",
   "nbconvert_exporter": "python",
   "pygments_lexer": "ipython3",
   "version": "3.13.1"
  }
 },
 "nbformat": 4,
 "nbformat_minor": 5
}
