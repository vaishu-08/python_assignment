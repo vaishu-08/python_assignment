{
 "cells": [
  {
   "cell_type": "code",
   "execution_count": 1,
   "id": "9a443b38-e3d7-447c-9411-f5ba7b649dbb",
   "metadata": {},
   "outputs": [],
   "source": [
    "# Write a function that checks a number against 7 and prints:\n",
    "# • 'too low' if less than 7,\n",
    "# • 'just right' if equal to 7,\n",
    "# • 'too high' if greater than 7.\n",
    "# Call the function with the values 7, 5, and 15."
   ]
  },
  {
   "cell_type": "code",
   "execution_count": 2,
   "id": "fb0b4e01-2986-41e5-a9bd-0ac898c11fb9",
   "metadata": {},
   "outputs": [],
   "source": [
    "def check_number(num):\n",
    "    if num < 7:\n",
    "        print('too low')\n",
    "    elif num == 7:\n",
    "        print('just right')\n",
    "    else:\n",
    "        print('too high')\n"
   ]
  },
  {
   "cell_type": "code",
   "execution_count": 3,
   "id": "fc9a9afa-9d17-4a5d-8f5b-41e3a43e9f23",
   "metadata": {},
   "outputs": [
    {
     "name": "stdout",
     "output_type": "stream",
     "text": [
      "too low\n"
     ]
    }
   ],
   "source": [
    "check_number(5)"
   ]
  },
  {
   "cell_type": "code",
   "execution_count": 4,
   "id": "3af1b718-b4ed-416d-93a4-faf76133976b",
   "metadata": {},
   "outputs": [
    {
     "name": "stdout",
     "output_type": "stream",
     "text": [
      "just right\n"
     ]
    }
   ],
   "source": [
    "check_number(7)"
   ]
  },
  {
   "cell_type": "code",
   "execution_count": 6,
   "id": "e2f93f4f-8475-4a5e-a864-935598a10764",
   "metadata": {},
   "outputs": [
    {
     "name": "stdout",
     "output_type": "stream",
     "text": [
      "too high\n"
     ]
    }
   ],
   "source": [
    "check_number(15)"
   ]
  },
  {
   "cell_type": "code",
   "execution_count": null,
   "id": "9f0c46c5-d635-4225-a5e6-9a0680cab954",
   "metadata": {},
   "outputs": [],
   "source": [
    "# Assign:\n",
    "# guess_me = 7\n",
    "# start = 1\n",
    "# Write a while True: loop that compares start with guess_me:\n",
    "# • Print 'too low' if start < guess_me\n",
    "# • Print 'found it' and break if equal\n",
    "# • Print 'too high' and break if greater\n",
    "# Increment start at the end of each loop cycle.\n"
   ]
  },
  {
   "cell_type": "code",
   "execution_count": 7,
   "id": "b1b5be6c-201b-4319-a1e2-7ca9612a7e14",
   "metadata": {},
   "outputs": [
    {
     "name": "stdout",
     "output_type": "stream",
     "text": [
      "too low\n",
      "too low\n",
      "too low\n",
      "too low\n",
      "too low\n",
      "too low\n",
      "found it\n"
     ]
    }
   ],
   "source": [
    "guess_me = 7\n",
    "start = 1\n",
    "\n",
    "while True:\n",
    "    if start < guess_me:\n",
    "        print('too low')\n",
    "    elif start == guess_me:\n",
    "        print('found it')\n",
    "        break\n",
    "    else:\n",
    "        print('too high')\n",
    "        break\n",
    "    start += 1\n"
   ]
  },
  {
   "cell_type": "code",
   "execution_count": 8,
   "id": "2d7a1f08-5e54-45ce-88c0-8d7e55012e68",
   "metadata": {},
   "outputs": [],
   "source": [
    "# Use a for loop to print each element in this list:\n",
    "# [3, 2, 1, 0]"
   ]
  },
  {
   "cell_type": "code",
   "execution_count": 9,
   "id": "efc5d9fe-b5fd-4a2b-a6c4-03cb87f80fc4",
   "metadata": {},
   "outputs": [
    {
     "name": "stdout",
     "output_type": "stream",
     "text": [
      "3\n",
      "2\n",
      "1\n",
      "0\n"
     ]
    }
   ],
   "source": [
    "for number in [3, 2, 1, 0]:\n",
    "    print(number)"
   ]
  },
  {
   "cell_type": "code",
   "execution_count": 10,
   "id": "762ba319-a49e-4315-b246-8821159e5cd7",
   "metadata": {},
   "outputs": [],
   "source": [
    "# Use a list comprehension to generate a list of even numbers from 0 to 10."
   ]
  },
  {
   "cell_type": "code",
   "execution_count": 11,
   "id": "eca4bda8-890f-41ae-9e77-d271a056d1cc",
   "metadata": {},
   "outputs": [
    {
     "name": "stdout",
     "output_type": "stream",
     "text": [
      "[0, 2, 4, 6, 8, 10]\n"
     ]
    }
   ],
   "source": [
    "even_numbers = [x for x in range(0, 11) if x % 2 == 0]\n",
    "print(even_numbers)"
   ]
  },
  {
   "cell_type": "code",
   "execution_count": 12,
   "id": "f561102e-069d-4f2a-a6ff-ac7b22febbfd",
   "metadata": {},
   "outputs": [],
   "source": [
    "# Use a dictionary comprehension (or another method) to create a dictionary called squares\n",
    "# where:\n",
    "\n",
    "# • The keys are numbers from 0 to 9\n",
    "# • The values are the squares of the keys"
   ]
  },
  {
   "cell_type": "code",
   "execution_count": 15,
   "id": "0102c60e-8bba-4774-aba8-9c079acff08a",
   "metadata": {},
   "outputs": [
    {
     "name": "stdout",
     "output_type": "stream",
     "text": [
      "{0: 0, 1: 1, 2: 4, 3: 9, 4: 16, 5: 25, 6: 36, 7: 49, 8: 64, 9: 81}\n"
     ]
    }
   ],
   "source": [
    "squares = {x: x**2 for x in range(10)}\n",
    "print(squares)\n"
   ]
  },
  {
   "cell_type": "code",
   "execution_count": 16,
   "id": "f1bfd767-83e4-4b2c-afbb-a257bcb191ea",
   "metadata": {},
   "outputs": [],
   "source": [
    "# Create a set odd that contains all the odd numbers from 0 to 9 using a set comprehension."
   ]
  },
  {
   "cell_type": "code",
   "execution_count": 17,
   "id": "82ed072f-85a5-479c-a582-b44c4129af7f",
   "metadata": {},
   "outputs": [
    {
     "name": "stdout",
     "output_type": "stream",
     "text": [
      "{1, 3, 5, 7, 9}\n"
     ]
    }
   ],
   "source": [
    "odd = {x for x in range(10) if x % 2 != 0}\n",
    "print(odd)"
   ]
  },
  {
   "cell_type": "code",
   "execution_count": 18,
   "id": "4baa4595-fb76-443e-b679-828c9a7d98b8",
   "metadata": {},
   "outputs": [],
   "source": [
    "# Use a generator expression to create strings like 'Got_0', 'Got_1', ..., 'Got_9'.\n",
    "# Iterate over the generator using a for loop and print the results in one line separated by\n",
    "# spaces."
   ]
  },
  {
   "cell_type": "code",
   "execution_count": 19,
   "id": "f2bc8151-a5fd-4aaf-b00a-977de8411546",
   "metadata": {},
   "outputs": [
    {
     "name": "stdout",
     "output_type": "stream",
     "text": [
      "Got_0 Got_1 Got_2 Got_3 Got_4 Got_5 Got_6 Got_7 Got_8 Got_9 "
     ]
    }
   ],
   "source": [
    "gen = (f'Got_{x}' for x in range(10))\n",
    "\n",
    "for item in gen:\n",
    "    print(item, end=' ')"
   ]
  },
  {
   "cell_type": "code",
   "execution_count": 20,
   "id": "fe293a04-e4e1-4d45-b6f8-0e178ca9bb50",
   "metadata": {},
   "outputs": [],
   "source": [
    "# Define a function good() that returns this list:\n",
    "# ['Harry', 'Ron', 'Hermione']"
   ]
  },
  {
   "cell_type": "code",
   "execution_count": 22,
   "id": "0ff70d53-be0d-465f-bf32-fd5dbed7e643",
   "metadata": {},
   "outputs": [
    {
     "name": "stdout",
     "output_type": "stream",
     "text": [
      "['Harry', 'Ron', 'Hermione']\n"
     ]
    }
   ],
   "source": [
    "def good():\n",
    "    return ['Harry', 'Ron', 'Hermione']\n",
    "\n",
    "\n",
    "print(good())\n"
   ]
  },
  {
   "cell_type": "code",
   "execution_count": 23,
   "id": "bac410e4-b962-46be-8637-2014d0dacaa9",
   "metadata": {},
   "outputs": [],
   "source": [
    "# Define a generator function get_odds() that yields odd numbers from 0 to 9.\n",
    "# Use a loop or generator handling to find and print the third odd number generated."
   ]
  },
  {
   "cell_type": "code",
   "execution_count": 25,
   "id": "3451aa85-9b2a-4121-8251-a837aba9a2c7",
   "metadata": {},
   "outputs": [
    {
     "name": "stdout",
     "output_type": "stream",
     "text": [
      "5\n"
     ]
    }
   ],
   "source": [
    "def get_odds():\n",
    "    for num in range(10):\n",
    "        if num % 2 != 0:\n",
    "            yield num\n",
    "\n",
    "\n",
    "count = 0\n",
    "for odd in get_odds():\n",
    "    count += 1\n",
    "    if count == 3:\n",
    "        print(odd)\n",
    "        break\n"
   ]
  },
  {
   "cell_type": "code",
   "execution_count": 26,
   "id": "88316813-69e6-475b-a230-3f0befd94104",
   "metadata": {},
   "outputs": [],
   "source": [
    "# Given:\n",
    "# titles = ['Creature of Habit', 'Crewel Fate']\n",
    "# plots = ['A nun turns into a monster', 'A haunted yarn shop']\n",
    "# Use zip() to build and print a dictionary called movies that pairs each title with its plot."
   ]
  },
  {
   "cell_type": "code",
   "execution_count": 27,
   "id": "1e47e451-d0bb-4beb-a5ea-7f8a81d59d1f",
   "metadata": {},
   "outputs": [
    {
     "name": "stdout",
     "output_type": "stream",
     "text": [
      "{'Creature of Habit': 'A nun turns into a monster', 'Crewel Fate': 'A haunted yarn shop'}\n"
     ]
    }
   ],
   "source": [
    "titles = ['Creature of Habit', 'Crewel Fate']\n",
    "plots = ['A nun turns into a monster', 'A haunted yarn shop']\n",
    "\n",
    "movies = dict(zip(titles, plots))\n",
    "print(movies)\n"
   ]
  },
  {
   "cell_type": "code",
   "execution_count": null,
   "id": "5dbf9fb9-1dfa-463e-acd5-45047358717d",
   "metadata": {},
   "outputs": [],
   "source": []
  }
 ],
 "metadata": {
  "kernelspec": {
   "display_name": "Python 3 (ipykernel)",
   "language": "python",
   "name": "python3"
  },
  "language_info": {
   "codemirror_mode": {
    "name": "ipython",
    "version": 3
   },
   "file_extension": ".py",
   "mimetype": "text/x-python",
   "name": "python",
   "nbconvert_exporter": "python",
   "pygments_lexer": "ipython3",
   "version": "3.13.1"
  }
 },
 "nbformat": 4,
 "nbformat_minor": 5
}
