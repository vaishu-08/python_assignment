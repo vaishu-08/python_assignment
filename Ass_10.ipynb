{
 "cells": [
  {
   "cell_type": "code",
   "execution_count": 2,
   "id": "adf8df4e-b5b5-473d-8a13-eb452d10fb56",
   "metadata": {},
   "outputs": [],
   "source": [
    "# Use Python to calculate how many seconds are in one hour. Multiply the number of seconds\n",
    "# in a minute by the number of minutes in an hour."
   ]
  },
  {
   "cell_type": "code",
   "execution_count": 1,
   "id": "d980920b-659a-45a2-b94d-bec3d89ef88e",
   "metadata": {},
   "outputs": [
    {
     "name": "stdout",
     "output_type": "stream",
     "text": [
      "3600\n"
     ]
    }
   ],
   "source": [
    "seconds_per_minute = 60\n",
    "minutes_per_hour = 60\n",
    "\n",
    "seconds_per_hour = seconds_per_minute * minutes_per_hour\n",
    "print(seconds_per_hour)\n"
   ]
  },
  {
   "cell_type": "code",
   "execution_count": 3,
   "id": "8bfd0ba8-1f5c-42ab-b0c7-a381337c26fd",
   "metadata": {},
   "outputs": [],
   "source": [
    "# Assign the result from Question 1 to a variable called seconds_per_hour and print it."
   ]
  },
  {
   "cell_type": "code",
   "execution_count": 4,
   "id": "f95cba7a-811d-494c-9a02-067ef47fbf13",
   "metadata": {},
   "outputs": [
    {
     "name": "stdout",
     "output_type": "stream",
     "text": [
      "3600\n"
     ]
    }
   ],
   "source": [
    "seconds_per_minute = 60\n",
    "minutes_per_hour = 60\n",
    "\n",
    "seconds_per_hour = seconds_per_minute * minutes_per_hour\n",
    "print(seconds_per_hour)\n"
   ]
  },
  {
   "cell_type": "code",
   "execution_count": 5,
   "id": "d25dd056-38a6-4040-bebf-6679d3913849",
   "metadata": {},
   "outputs": [],
   "source": [
    "# Estimate how many seconds are in a day. Use the variable seconds_per_hour and any other\n",
    "# variables you may need."
   ]
  },
  {
   "cell_type": "code",
   "execution_count": 6,
   "id": "043a76ad-2133-4a98-8d9d-a99b92d97215",
   "metadata": {},
   "outputs": [
    {
     "name": "stdout",
     "output_type": "stream",
     "text": [
      "86400\n"
     ]
    }
   ],
   "source": [
    "seconds_per_hour = 60 * 60  # 3600 seconds in an hour\n",
    "hours_per_day = 24\n",
    "\n",
    "seconds_per_day = seconds_per_hour * hours_per_day\n",
    "print(seconds_per_day)\n"
   ]
  },
  {
   "cell_type": "code",
   "execution_count": 7,
   "id": "6a163214-4797-4173-a5c8-f71dd5690214",
   "metadata": {},
   "outputs": [],
   "source": [
    "# Recalculate the number of seconds in a day and assign the result to a variable called\n",
    "# seconds_per_day. Print the value."
   ]
  },
  {
   "cell_type": "code",
   "execution_count": 8,
   "id": "7d3497a6-41e1-483d-8f90-6ef1647ba8cb",
   "metadata": {},
   "outputs": [
    {
     "name": "stdout",
     "output_type": "stream",
     "text": [
      "86400\n"
     ]
    }
   ],
   "source": [
    "seconds_per_hour = 60 * 60  # 3600 seconds\n",
    "hours_per_day = 24\n",
    "\n",
    "seconds_per_day = seconds_per_hour * hours_per_day\n",
    "print(seconds_per_day)\n"
   ]
  },
  {
   "cell_type": "code",
   "execution_count": 9,
   "id": "6be59229-0088-43ef-a2d2-d0d48b6bdffb",
   "metadata": {},
   "outputs": [],
   "source": [
    "# Divide seconds_per_day by seconds_per_hour using floating-point division (/). What\n",
    "# result do you get?"
   ]
  },
  {
   "cell_type": "code",
   "execution_count": 10,
   "id": "982ad39c-bed8-4670-9e8f-8a7c5f581c7c",
   "metadata": {},
   "outputs": [
    {
     "name": "stdout",
     "output_type": "stream",
     "text": [
      "24.0\n"
     ]
    }
   ],
   "source": [
    "seconds_per_hour = 60 * 60\n",
    "seconds_per_day = seconds_per_hour * 24\n",
    "\n",
    "result = seconds_per_day / seconds_per_hour\n",
    "print(result)\n"
   ]
  },
  {
   "cell_type": "code",
   "execution_count": 11,
   "id": "e67cfb77-0070-4703-bebd-3a1ba08ee281",
   "metadata": {},
   "outputs": [],
   "source": [
    "# Now divide seconds_per_day by seconds_per_hour using integer division (//). Does this\n",
    "# value match the previous result aside from the decimal point?"
   ]
  },
  {
   "cell_type": "code",
   "execution_count": 12,
   "id": "d5c6286b-336a-4355-ac1a-7a1b3f5d471b",
   "metadata": {},
   "outputs": [
    {
     "name": "stdout",
     "output_type": "stream",
     "text": [
      "24.0\n",
      "24\n"
     ]
    }
   ],
   "source": [
    "seconds_per_hour = 60 * 60\n",
    "seconds_per_day = seconds_per_hour * 24\n",
    "\n",
    "result_float = seconds_per_day / seconds_per_hour   # floating-point division\n",
    "result_int = seconds_per_day // seconds_per_hour    # integer division\n",
    "\n",
    "print(result_float)  # 24.0\n",
    "print(result_int)    # 24\n",
    "\n"
   ]
  },
  {
   "cell_type": "code",
   "execution_count": 14,
   "id": "9a8b8764-60aa-4e2b-8469-d9031921327b",
   "metadata": {},
   "outputs": [],
   "source": [
    "# Write a generator function genPrimes() that yields an infinite sequence of prime numbers\n",
    "# starting from 2.\n",
    "# Use a loop to print the first 5 prime numbers generated by genPrimes()."
   ]
  },
  {
   "cell_type": "code",
   "execution_count": 15,
   "id": "14a7d3eb-08d4-4dc1-b645-bfac953c7054",
   "metadata": {},
   "outputs": [
    {
     "name": "stdout",
     "output_type": "stream",
     "text": [
      "2\n",
      "3\n",
      "5\n",
      "7\n",
      "11\n"
     ]
    }
   ],
   "source": [
    "def genPrimes():\n",
    "    num = 2\n",
    "    while True:\n",
    "        # Check if num is prime\n",
    "        is_prime = True\n",
    "        for i in range(2, int(num ** 0.5) + 1):\n",
    "            if num % i == 0:\n",
    "                is_prime = False\n",
    "                break\n",
    "        if is_prime:\n",
    "            yield num\n",
    "        num += 1\n",
    "\n",
    "# Print first 5 prime numbers\n",
    "prime_generator = genPrimes()\n",
    "for _ in range(5):\n",
    "    print(next(prime_generator))\n"
   ]
  },
  {
   "cell_type": "code",
   "execution_count": null,
   "id": "5e6d3470-d533-44b2-870d-b3663e464885",
   "metadata": {},
   "outputs": [],
   "source": []
  }
 ],
 "metadata": {
  "kernelspec": {
   "display_name": "Python 3 (ipykernel)",
   "language": "python",
   "name": "python3"
  },
  "language_info": {
   "codemirror_mode": {
    "name": "ipython",
    "version": 3
   },
   "file_extension": ".py",
   "mimetype": "text/x-python",
   "name": "python",
   "nbconvert_exporter": "python",
   "pygments_lexer": "ipython3",
   "version": "3.13.1"
  }
 },
 "nbformat": 4,
 "nbformat_minor": 5
}
