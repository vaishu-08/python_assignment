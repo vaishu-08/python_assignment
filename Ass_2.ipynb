{
 "cells": [
  {
   "cell_type": "code",
   "execution_count": 1,
   "id": "6a1bdfef-d7b0-4ea9-baf2-9e8d9bdcd9df",
   "metadata": {},
   "outputs": [],
   "source": [
    "# Create a variable age and assign it the value 25 . Then print the value of\n",
    "# age along with its data type using the type() function."
   ]
  },
  {
   "cell_type": "code",
   "execution_count": 2,
   "id": "53d0ba0b-4436-48ae-8c56-ebb49191beba",
   "metadata": {},
   "outputs": [
    {
     "name": "stdout",
     "output_type": "stream",
     "text": [
      "Value of age: 25\n",
      "Data type of age: <class 'int'>\n"
     ]
    }
   ],
   "source": [
    "age = 25\n",
    "print(\"Value of age:\", age)\n",
    "print(\"Data type of age:\", type(age))\n"
   ]
  },
  {
   "cell_type": "code",
   "execution_count": 3,
   "id": "cb568ad8-0122-4ff4-9c82-c569466ec2fc",
   "metadata": {},
   "outputs": [],
   "source": [
    "# Assign the number 12.5 to a variable price . Print both the variable and its\n",
    "# data type. Then assign the value 12 to the same variable and print its data\n",
    "# type again. What do you observe?"
   ]
  },
  {
   "cell_type": "code",
   "execution_count": 4,
   "id": "ed44ce4c-5bc5-47ad-ba0c-1ce5210b4484",
   "metadata": {},
   "outputs": [
    {
     "name": "stdout",
     "output_type": "stream",
     "text": [
      "Value of price: 12.5\n",
      "Data type of price: <class 'float'>\n",
      "New value of price: 12\n",
      "New data type of price: <class 'int'>\n"
     ]
    }
   ],
   "source": [
    "price = 12.5\n",
    "print(\"Value of price:\", price)\n",
    "print(\"Data type of price:\", type(price))\n",
    "\n",
    "price = 12\n",
    "print(\"New value of price:\", price)\n",
    "print(\"New data type of price:\", type(price))\n"
   ]
  },
  {
   "cell_type": "code",
   "execution_count": 5,
   "id": "2c2f709e-6c4a-4811-915e-2ae771bc5d4e",
   "metadata": {},
   "outputs": [],
   "source": [
    "# Create a variable is_raining and set it to True . Print the value of the variable\n",
    "# along with its type. Then set is_raining to False and print the new value and\n",
    "# type."
   ]
  },
  {
   "cell_type": "code",
   "execution_count": 6,
   "id": "b6c622a1-5c02-4da2-b20d-044e30656095",
   "metadata": {},
   "outputs": [
    {
     "name": "stdout",
     "output_type": "stream",
     "text": [
      "Value of is_raining: True\n",
      "Data type of is_raining: <class 'bool'>\n",
      "New value of is_raining: False\n",
      "New data type of is_raining: <class 'bool'>\n"
     ]
    }
   ],
   "source": [
    "is_raining = True\n",
    "print(\"Value of is_raining:\", is_raining)\n",
    "print(\"Data type of is_raining:\", type(is_raining))\n",
    "\n",
    "is_raining = False\n",
    "print(\"New value of is_raining:\", is_raining)\n",
    "print(\"New data type of is_raining:\", type(is_raining))\n"
   ]
  },
  {
   "cell_type": "code",
   "execution_count": 8,
   "id": "7855fe79-0bf8-4b3d-b1a4-ce069e1c4073",
   "metadata": {},
   "outputs": [],
   "source": [
    "# Create a variable my_name and store your full name in it as a string. Then\n",
    "# print the value of my_name using single quotes ' ."
   ]
  },
  {
   "cell_type": "code",
   "execution_count": 9,
   "id": "941db050-266d-41ea-b01f-b3869fd10803",
   "metadata": {},
   "outputs": [
    {
     "name": "stdout",
     "output_type": "stream",
     "text": [
      "My name is: Vaishnavi Gunjal\n"
     ]
    }
   ],
   "source": [
    "my_name = \"Vaishnavi Gunjal\"\n",
    "print('My name is:', my_name)\n"
   ]
  },
  {
   "cell_type": "code",
   "execution_count": 10,
   "id": "7326f58e-8ca6-4a29-9455-0cabd2e58eb1",
   "metadata": {},
   "outputs": [],
   "source": [
    "# Write a Python program that asks the user for their name and age using the\n",
    "# input() function. Store the inputs in variables and print a sentence like\n",
    "# \"Hello, [Name]! You are [Age] years old.\" Ensure you cast the age to an\n",
    "# integer."
   ]
  },
  {
   "cell_type": "code",
   "execution_count": 11,
   "id": "b893fcd6-f67a-4901-9172-e6eb52eb3c48",
   "metadata": {},
   "outputs": [
    {
     "name": "stdin",
     "output_type": "stream",
     "text": [
      "Enter your name:  vaishh\n",
      "Enter your age:  22\n"
     ]
    },
    {
     "name": "stdout",
     "output_type": "stream",
     "text": [
      "Hello, vaishh! You are 22 years old.\n"
     ]
    }
   ],
   "source": [
    "# Ask for user input\n",
    "name = input(\"Enter your name: \")\n",
    "age = int(input(\"Enter your age: \"))  # Cast age to integer\n",
    "\n",
    "# Print the output message\n",
    "print(f\"Hello, {name}! You are {age} years old.\")\n"
   ]
  },
  {
   "cell_type": "code",
   "execution_count": 12,
   "id": "84361bda-3ff3-4c9d-9416-0172d62091fc",
   "metadata": {},
   "outputs": [],
   "source": [
    "# Create two variables x and y and assign them the values 10 and 3.5 ,\n",
    "# respectively. Print their values and types. Then, create a new variable\n",
    "# sum_xy and store the sum of x and y . Print the result and its type."
   ]
  },
  {
   "cell_type": "code",
   "execution_count": 13,
   "id": "c40f92d1-095a-4a3e-b1b8-83ca74303cac",
   "metadata": {},
   "outputs": [
    {
     "name": "stdout",
     "output_type": "stream",
     "text": [
      "x = 10 Type of x: <class 'int'>\n",
      "y = 3.5 Type of y: <class 'float'>\n",
      "sum_xy = 13.5 Type of sum_xy: <class 'float'>\n"
     ]
    }
   ],
   "source": [
    "# Assign values\n",
    "x = 10\n",
    "y = 3.5\n",
    "\n",
    "# Print values and their types\n",
    "print(\"x =\", x, \"Type of x:\", type(x))\n",
    "print(\"y =\", y, \"Type of y:\", type(y))\n",
    "\n",
    "# Calculate sum\n",
    "sum_xy = x + y\n",
    "\n",
    "# Print result and its type\n",
    "print(\"sum_xy =\", sum_xy, \"Type of sum_xy:\", type(sum_xy))\n"
   ]
  },
  {
   "cell_type": "code",
   "execution_count": 15,
   "id": "0467c315-ed1f-4881-b2dc-a9a552f348fc",
   "metadata": {},
   "outputs": [],
   "source": [
    "# Using the type() function, check and print the data type of the following:\n",
    "# 45.0\n",
    "# \"hello\"\n",
    "# None\n",
    "# False"
   ]
  },
  {
   "cell_type": "code",
   "execution_count": 16,
   "id": "aad9df33-fe2e-4b00-be2b-72a1481ad531",
   "metadata": {},
   "outputs": [
    {
     "name": "stdout",
     "output_type": "stream",
     "text": [
      "Type of 45.0: <class 'float'>\n",
      "Type of 'hello': <class 'str'>\n",
      "Type of None: <class 'NoneType'>\n",
      "Type of False: <class 'bool'>\n"
     ]
    }
   ],
   "source": [
    "print(\"Type of 45.0:\", type(45.0))\n",
    "print(\"Type of 'hello':\", type(\"hello\"))\n",
    "print(\"Type of None:\", type(None))\n",
    "print(\"Type of False:\", type(False))\n"
   ]
  },
  {
   "cell_type": "code",
   "execution_count": 17,
   "id": "c9bffc28-081d-4048-815f-717ab7ad2c3f",
   "metadata": {},
   "outputs": [],
   "source": [
    "# Write a Python program to print three strings \"apple\" , \"banana\" , and \"cherry\"\n",
    "# on the same line, separated by a space. Then modify the program to\n",
    "# separate the strings using a comma , instead of a space."
   ]
  },
  {
   "cell_type": "code",
   "execution_count": 19,
   "id": "17331e15-3108-4119-9c37-e791dbda53ce",
   "metadata": {},
   "outputs": [
    {
     "name": "stdout",
     "output_type": "stream",
     "text": [
      "apple banana cherry\n",
      "apple, banana, cherry\n"
     ]
    }
   ],
   "source": [
    "print(\"apple\", \"banana\", \"cherry\")\n",
    "print(\"apple\", \"banana\", \"cherry\", sep=\", \")\n",
    "\n"
   ]
  },
  {
   "cell_type": "code",
   "execution_count": 21,
   "id": "9d1d4a35-bf33-4455-b4e0-a6c05d7215d8",
   "metadata": {},
   "outputs": [],
   "source": [
    "# Create a variable big_number and assign it a very large integer value (e.g.,\n",
    "# 987654321987654321 ). Print the value and its type. What do you notice about\n",
    "# the size of the number?"
   ]
  },
  {
   "cell_type": "code",
   "execution_count": 20,
   "id": "86038254-1b35-4595-a71f-32795a5c224c",
   "metadata": {},
   "outputs": [
    {
     "name": "stdout",
     "output_type": "stream",
     "text": [
      "Value: 987654321987654321\n",
      "Type: <class 'int'>\n"
     ]
    }
   ],
   "source": [
    "big_number = 987654321987654321\n",
    "print(\"Value:\", big_number)\n",
    "print(\"Type:\", type(big_number))\n"
   ]
  },
  {
   "cell_type": "code",
   "execution_count": 22,
   "id": "5bd429be-6818-43db-b40b-259c17d436b8",
   "metadata": {},
   "outputs": [],
   "source": [
    "# Write a Python program that prints the result of multiplying two floats (e.g.,\n",
    "# 2.5 and 3.7 ). Then check and print the data type of the result."
   ]
  },
  {
   "cell_type": "code",
   "execution_count": 23,
   "id": "3910eed5-4256-4b4f-9b99-b64752ebd8f3",
   "metadata": {},
   "outputs": [
    {
     "name": "stdout",
     "output_type": "stream",
     "text": [
      "Result: 9.25\n",
      "Type of result: <class 'float'>\n"
     ]
    }
   ],
   "source": [
    "# Define the float values\n",
    "num1 = 2.5\n",
    "num2 = 3.7\n",
    "\n",
    "# Multiply the two floats\n",
    "result = num1 * num2\n",
    "\n",
    "# Print the result and its type\n",
    "print(\"Result:\", result)\n",
    "print(\"Type of result:\", type(result))\n"
   ]
  },
  {
   "cell_type": "code",
   "execution_count": null,
   "id": "eaf3441d-1ec2-4345-9d93-682f09ca7ae3",
   "metadata": {},
   "outputs": [],
   "source": []
  }
 ],
 "metadata": {
  "kernelspec": {
   "display_name": "Python 3 (ipykernel)",
   "language": "python",
   "name": "python3"
  },
  "language_info": {
   "codemirror_mode": {
    "name": "ipython",
    "version": 3
   },
   "file_extension": ".py",
   "mimetype": "text/x-python",
   "name": "python",
   "nbconvert_exporter": "python",
   "pygments_lexer": "ipython3",
   "version": "3.13.1"
  }
 },
 "nbformat": 4,
 "nbformat_minor": 5
}
