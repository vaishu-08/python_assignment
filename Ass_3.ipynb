{
 "cells": [
  {
   "cell_type": "code",
   "execution_count": 1,
   "id": "2645ce8d-1d6f-4f44-a599-5d571a9689e7",
   "metadata": {},
   "outputs": [],
   "source": [
    "# Create a variable x with the value 15 . Perform floored division by 4 and\n",
    "# print the result. What is the difference between floored division and normal\n",
    "# division?"
   ]
  },
  {
   "cell_type": "code",
   "execution_count": 2,
   "id": "e04c3801-8edc-4d92-b487-0f18f89eb1d3",
   "metadata": {},
   "outputs": [
    {
     "data": {
      "text/plain": [
       "3"
      ]
     },
     "execution_count": 2,
     "metadata": {},
     "output_type": "execute_result"
    }
   ],
   "source": [
    "x = 15\n",
    "x//4 \n",
    "\n",
    "# Normal Division always returns a floating-point number\n",
    "# Floor Division return a round down number "
   ]
  },
  {
   "cell_type": "code",
   "execution_count": 3,
   "id": "e52a642b-40f6-4cbf-94f2-0fd5c9b3a43f",
   "metadata": {},
   "outputs": [],
   "source": [
    "# Write a program to calculate 8 ** 2 and 16 ** 0.5 . Print both results and\n",
    "# describe what each represents."
   ]
  },
  {
   "cell_type": "code",
   "execution_count": 4,
   "id": "62394545-cc69-44d7-844f-174a9c2a3539",
   "metadata": {},
   "outputs": [
    {
     "name": "stdout",
     "output_type": "stream",
     "text": [
      "64\n",
      "4.0\n"
     ]
    }
   ],
   "source": [
    "print(8**2)\n",
    "print(16**0.5)"
   ]
  },
  {
   "cell_type": "code",
   "execution_count": 5,
   "id": "6808bd91-7592-4590-9b8c-64994322e089",
   "metadata": {},
   "outputs": [],
   "source": [
    "# Use arithmetic operators to solve the following expression: 20 - 5 * 3 + 8 /\n",
    "# 4 . Use parentheses to make sure the addition happens before\n",
    "# multiplication. Print the output."
   ]
  },
  {
   "cell_type": "code",
   "execution_count": 6,
   "id": "5579cb5b-41c3-48c7-ac4c-9e5101032d91",
   "metadata": {},
   "outputs": [
    {
     "name": "stdout",
     "output_type": "stream",
     "text": [
      "7.0\n",
      "-2.0\n"
     ]
    }
   ],
   "source": [
    "a = 20 - 5 * 3 + 8 /4\n",
    "print(a)\n",
    "a = 20 - (5 + 3) * 3 + 8 / 4\n",
    "print(a)"
   ]
  },
  {
   "cell_type": "code",
   "execution_count": 7,
   "id": "f9647733-f826-4a77-9c5b-d569af276b15",
   "metadata": {},
   "outputs": [],
   "source": [
    "# Assign the value 7 to a variable num . Convert it to a float and print the\n",
    "# result. What is the difference between 7 and 7.0 ?"
   ]
  },
  {
   "cell_type": "code",
   "execution_count": 8,
   "id": "3a2aabf9-7a6a-4550-b1db-5ef8ef951951",
   "metadata": {},
   "outputs": [
    {
     "name": "stdout",
     "output_type": "stream",
     "text": [
      "7.0\n"
     ]
    },
    {
     "data": {
      "text/plain": [
       "float"
      ]
     },
     "execution_count": 8,
     "metadata": {},
     "output_type": "execute_result"
    }
   ],
   "source": [
    "n = 7\n",
    "n1= float(n)\n",
    "print(n1)\n",
    "type(n1)"
   ]
  },
  {
   "cell_type": "code",
   "execution_count": 9,
   "id": "5982a231-737e-4c90-9714-c9b98b9d7c99",
   "metadata": {},
   "outputs": [],
   "source": [
    "# Use a comparison operator to check if 100 is greater than 50 . Print the\n",
    "# result and indicate what type of value this is."
   ]
  },
  {
   "cell_type": "code",
   "execution_count": 10,
   "id": "7e690388-17f1-4836-8a60-9527d07581a3",
   "metadata": {},
   "outputs": [
    {
     "name": "stdout",
     "output_type": "stream",
     "text": [
      "True\n"
     ]
    },
    {
     "data": {
      "text/plain": [
       "bool"
      ]
     },
     "execution_count": 10,
     "metadata": {},
     "output_type": "execute_result"
    }
   ],
   "source": [
    "a = 100 > 50\n",
    "print(a)\n",
    "type(a)"
   ]
  },
  {
   "cell_type": "code",
   "execution_count": 11,
   "id": "2fc72863-438f-4471-b018-59ad1606ca8e",
   "metadata": {},
   "outputs": [],
   "source": [
    "# Assign True to a variable is_sunny and False to is_weekend . Use logical\n",
    "# operators to check if it is sunny and the weekend ( is_sunny and is_weekend ).\n",
    "# Print the result."
   ]
  },
  {
   "cell_type": "code",
   "execution_count": 12,
   "id": "9930a7c1-bc3d-4711-859f-b6c8555677a9",
   "metadata": {},
   "outputs": [
    {
     "name": "stdout",
     "output_type": "stream",
     "text": [
      "Is it sunny and the weekend? False\n"
     ]
    }
   ],
   "source": [
    "is_sunny = True\n",
    "is_weekend = False\n",
    "result = is_sunny and is_weekend\n",
    "print(\"Is it sunny and the weekend?\", result)"
   ]
  },
  {
   "cell_type": "code",
   "execution_count": 13,
   "id": "56948cf7-357d-4e96-b377-b7c0a5085942",
   "metadata": {},
   "outputs": [],
   "source": [
    "# Create a variable password and set it to \"my_password123\" . Ask the user to input\n",
    "# a password and print True if the input matches the value of password ,\n",
    "# otherwise print False ."
   ]
  },
  {
   "cell_type": "code",
   "execution_count": 14,
   "id": "f8984ac2-22bd-438c-9e91-ad56fdc87475",
   "metadata": {},
   "outputs": [
    {
     "name": "stdin",
     "output_type": "stream",
     "text": [
      "Enter password :  a\n"
     ]
    },
    {
     "name": "stdout",
     "output_type": "stream",
     "text": [
      "password is incorrerct\n"
     ]
    }
   ],
   "source": [
    "password = \"my_password123\"\n",
    "a = input(\"Enter password : \")\n",
    "if a == password :\n",
    "    print(\"Password is correct \")\n",
    "else :\n",
    "    print(\"password is incorrerct\")\n",
    "    "
   ]
  },
  {
   "cell_type": "code",
   "execution_count": 15,
   "id": "a51e0a34-ab60-4800-92a4-02591ce6d245",
   "metadata": {},
   "outputs": [],
   "source": [
    "# Assign the value 50 to a variable marks . Increment the value of marks by 5\n",
    "# using the += operator, then print the new value."
   ]
  },
  {
   "cell_type": "code",
   "execution_count": 16,
   "id": "96bf619f-aa5b-44ee-97fa-02bc5988e29e",
   "metadata": {},
   "outputs": [
    {
     "data": {
      "text/plain": [
       "55"
      ]
     },
     "execution_count": 16,
     "metadata": {},
     "output_type": "execute_result"
    }
   ],
   "source": [
    "marks = 50 \n",
    "marks += 5\n",
    "marks\n"
   ]
  },
  {
   "cell_type": "code",
   "execution_count": 17,
   "id": "e879bf21-65a2-4698-83bd-b7167ea2d0b0",
   "metadata": {},
   "outputs": [],
   "source": [
    "# Write a program to check if the value of a = 0 and b = 10 satisfies a or b .\n",
    "# Print the output and explain why it gives that result."
   ]
  },
  {
   "cell_type": "code",
   "execution_count": 18,
   "id": "5ac8876d-271a-4c32-96e5-07718535e310",
   "metadata": {},
   "outputs": [
    {
     "name": "stdout",
     "output_type": "stream",
     "text": [
      "10\n"
     ]
    }
   ],
   "source": [
    "a = 0 \n",
    "b = 10 \n",
    "c = a or b\n",
    "print(c)\n",
    "\n",
    "# a is 0 and in python 0 is falsy and other no is truthy ,so b is 10 then it will return 10 "
   ]
  },
  {
   "cell_type": "code",
   "execution_count": 19,
   "id": "1ab73dba-53bc-47f6-9690-f692c76b464e",
   "metadata": {},
   "outputs": [],
   "source": [
    "# Use not to negate the value of False and print the result. Explain what the\n",
    "# not operator does in Python."
   ]
  },
  {
   "cell_type": "code",
   "execution_count": 20,
   "id": "feb2eabd-7835-4317-a758-1dce77fc9d54",
   "metadata": {},
   "outputs": [
    {
     "name": "stdout",
     "output_type": "stream",
     "text": [
      "True\n"
     ]
    }
   ],
   "source": [
    "a = not False\n",
    "print(a)"
   ]
  },
  {
   "cell_type": "code",
   "execution_count": null,
   "id": "45cf8d23-b451-4e18-813a-5a63fcc2563f",
   "metadata": {},
   "outputs": [],
   "source": []
  }
 ],
 "metadata": {
  "kernelspec": {
   "display_name": "Python 3 (ipykernel)",
   "language": "python",
   "name": "python3"
  },
  "language_info": {
   "codemirror_mode": {
    "name": "ipython",
    "version": 3
   },
   "file_extension": ".py",
   "mimetype": "text/x-python",
   "name": "python",
   "nbconvert_exporter": "python",
   "pygments_lexer": "ipython3",
   "version": "3.13.1"
  }
 },
 "nbformat": 4,
 "nbformat_minor": 5
}
