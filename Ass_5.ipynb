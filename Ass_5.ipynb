{
 "cells": [
  {
   "cell_type": "markdown",
   "id": "213f7968-4767-469f-a876-6aa21491ab88",
   "metadata": {},
   "source": [
    "<!-- Write a program to check if the value of a = 0 and b = 10 satisfies a or b .\n",
    "Print the output and explain why it gives that result. -->"
   ]
  },
  {
   "cell_type": "code",
   "execution_count": 1,
   "id": "6f993d46-cff3-462e-b882-6b12f230b8bb",
   "metadata": {},
   "outputs": [],
   "source": [
    "# Write a program that takes a temperature in Celsius and prints whether it is \"Freezing\",\n",
    "# \"Cold\", \"Warm\", or \"Hot\" based on predefined ranges."
   ]
  },
  {
   "cell_type": "code",
   "execution_count": 2,
   "id": "57419436-6699-4f9f-9f4a-69e0bd1a52ae",
   "metadata": {},
   "outputs": [
    {
     "name": "stdin",
     "output_type": "stream",
     "text": [
      "Enter temperature in Celsius:  30\n"
     ]
    },
    {
     "name": "stdout",
     "output_type": "stream",
     "text": [
      "Warm\n"
     ]
    }
   ],
   "source": [
    "celsius = float(input(\"Enter temperature in Celsius: \"))\n",
    "if celsius <= 0:\n",
    "    print(\"Freezing\")\n",
    "elif 1 <= celsius <= 15:\n",
    "    print(\"Cold\")\n",
    "elif 16 <= celsius <= 30:\n",
    "    print(\"Warm\")\n",
    "else:\n",
    "    print(\"Hot\")"
   ]
  },
  {
   "cell_type": "code",
   "execution_count": 3,
   "id": "cc07767d-7bc6-43da-a2b7-bc570ab01fe5",
   "metadata": {},
   "outputs": [],
   "source": [
    "# Create a program that checks if a number is divisible by 3 and/or 5 and prints appropriate\n",
    "# messages."
   ]
  },
  {
   "cell_type": "code",
   "execution_count": 4,
   "id": "1ef94f82-9a7c-4c6d-8a86-e060ea327057",
   "metadata": {},
   "outputs": [
    {
     "name": "stdin",
     "output_type": "stream",
     "text": [
      "Enter a number:  6\n"
     ]
    },
    {
     "name": "stdout",
     "output_type": "stream",
     "text": [
      "Divisible by 3\n"
     ]
    }
   ],
   "source": [
    "num = int(input(\"Enter a number: \"))\n",
    "if num % 3 == 0 and num % 5 == 0:\n",
    "    print(\"Divisible by both 3 and 5\")\n",
    "elif num % 3 == 0:\n",
    "    print(\"Divisible by 3\")\n",
    "elif num % 5 == 0:\n",
    "    print(\"Divisible by 5\")\n",
    "else:\n",
    "    print(\"Not divisible by 3 or 5\")"
   ]
  },
  {
   "cell_type": "code",
   "execution_count": 5,
   "id": "b17679c1-5bfd-4de8-988c-3a4ba0e6aeb3",
   "metadata": {},
   "outputs": [
    {
     "name": "stdin",
     "output_type": "stream",
     "text": [
      "Enter first number:  6\n",
      "Enter operator (+, -, *, /):  +\n",
      "Enter second number:  6\n"
     ]
    },
    {
     "name": "stdout",
     "output_type": "stream",
     "text": [
      "Result: 12.0\n"
     ]
    }
   ],
   "source": [
    "num1 = float(input(\"Enter first number: \"))\n",
    "operator = input(\"Enter operator (+, -, *, /): \")\n",
    "num2 = float(input(\"Enter second number: \"))\n",
    "if operator == \"+\":\n",
    "    result = num1 + num2\n",
    "    print(\"Result:\", result)\n",
    "elif operator == \"-\":\n",
    "    result = num1 - num2\n",
    "    print(\"Result:\", result)\n",
    "elif operator == \"*\":\n",
    "    result = num1 * num2\n",
    "    print(\"Result:\", result)\n",
    "elif operator == \"/\":\n",
    "    if num2 == 0:\n",
    "        print(\"Error: Division by zero is not allowed.\")\n",
    "    else:\n",
    "        result = num1 / num2\n",
    "        print(\"Result:\", result)\n",
    "else:\n",
    "    print(\"Invalid operator! Please use +, -, *, or /.\")"
   ]
  },
  {
   "cell_type": "code",
   "execution_count": 6,
   "id": "aa33cfee-b15a-4e22-b712-ed4811e65c2f",
   "metadata": {},
   "outputs": [],
   "source": [
    "# 1. BMI Calculator: Write a program that calculates the Body Mass Index (BMI) based on user-provided weight\n",
    "# and height, then categorizes it as Underweight, Normal weight, Overweight, or Obesity."
   ]
  },
  {
   "cell_type": "code",
   "execution_count": 7,
   "id": "144cb9d8-155b-4f4c-a3e5-aa852c14ab6c",
   "metadata": {},
   "outputs": [
    {
     "name": "stdin",
     "output_type": "stream",
     "text": [
      "Enter your weight in kg:  60\n",
      "Enter your height in meters:  150\n"
     ]
    },
    {
     "name": "stdout",
     "output_type": "stream",
     "text": [
      "Underweight\n"
     ]
    }
   ],
   "source": [
    "weight = float(input(\"Enter your weight in kg: \"))\n",
    "height = float(input(\"Enter your height in meters: \"))\n",
    "\n",
    "bmi=weight / (height **2 )\n",
    "if bmi < 18.5:\n",
    "    print(\"Underweight\")\n",
    "elif 18.5 <= bmi < 24.9:\n",
    "    print(\"Normal weight\")\n",
    "elif 25 <= bmi < 29.9:\n",
    "    print(\"Overweight\")\n",
    "else:\n",
    "    print(\"Obesity\")\n",
    "\n"
   ]
  },
  {
   "cell_type": "code",
   "execution_count": 8,
   "id": "21f72616-283e-471e-8a7d-4e21adec18b1",
   "metadata": {},
   "outputs": [],
   "source": [
    "# Create a program that calculates the final price of an item based on its original price and\n",
    "# applies discounts based on predefined conditions (e.g., 10% off for prices over $100)."
   ]
  },
  {
   "cell_type": "code",
   "execution_count": 9,
   "id": "6ac14584-6230-417a-b63b-172475a550f3",
   "metadata": {},
   "outputs": [
    {
     "name": "stdin",
     "output_type": "stream",
     "text": [
      "Enter the original price of the item: $ 50\n"
     ]
    },
    {
     "name": "stdout",
     "output_type": "stream",
     "text": [
      "The final price after any applicable discounts is: 50.0\n"
     ]
    }
   ],
   "source": [
    "original_price = float(input(\"Enter the original price of the item: $\"))\n",
    "discounted_price = original_price\n",
    "if original_price > 100:\n",
    "    discounted_price *= 0.90 \n",
    "print(\"The final price after any applicable discounts is:\",discounted_price)"
   ]
  },
  {
   "cell_type": "code",
   "execution_count": 10,
   "id": "868dc267-1b14-472b-9851-9f3fd724f2c8",
   "metadata": {},
   "outputs": [],
   "source": [
    "# Classification: Extend the grade evaluation problem to classify grades into categories (e.g., \"Excellent\",\n",
    "# \"Good\", \"Average\", \"Poor\") based on score ranges."
   ]
  },
  {
   "cell_type": "code",
   "execution_count": 14,
   "id": "fb280b93-bb22-4cb9-bf84-5240714e19b5",
   "metadata": {},
   "outputs": [
    {
     "name": "stdin",
     "output_type": "stream",
     "text": [
      "Enter the student's score (0-100):  20\n"
     ]
    },
    {
     "name": "stdout",
     "output_type": "stream",
     "text": [
      "Grade: F , Classification: Fail\n"
     ]
    }
   ],
   "source": [
    "score = int(input(\"Enter the student's score (0-100): \"))\n",
    "\n",
    "if score >= 90:\n",
    "    grade = \"A\"\n",
    "    classification = \"Excellent\"\n",
    "elif score >= 80:\n",
    "    grade = \"B\"\n",
    "    classification = \"Good\"\n",
    "elif score >= 70:\n",
    "    grade = \"C\"\n",
    "    classification = \"Average\"\n",
    "elif score >= 60:\n",
    "    grade = \"D\"\n",
    "    classification = \"Poor\"\n",
    "else:\n",
    "    grade = \"F\"\n",
    "    classification = \"Fail\"\n",
    "\n",
    "print(\"Grade:\", grade, \", Classification:\", classification)"
   ]
  },
  {
   "cell_type": "code",
   "execution_count": null,
   "id": "c1bff13b-d3ff-48cc-a6cd-562e689176ff",
   "metadata": {},
   "outputs": [],
   "source": [
    "# Write a program that checks if a password is strong based on conditions such\n",
    "# as length, presence of digits, uppercase letters, and special characters."
   ]
  },
  {
   "cell_type": "code",
   "execution_count": null,
   "id": "8956a846-b07a-4df6-8b72-35762f700ac0",
   "metadata": {},
   "outputs": [],
   "source": [
    "password = input(\"Enter a password: \")\n",
    "\n",
    "digits = \"0123456789\"\n",
    "uppercase_letters = \"ABCDEFGHIJKLMNOPQRSTUVWXYZ\"\n",
    "special_characters = \"@$!%*?&\"\n",
    "\n",
    "length_condition = len(password) >= 8\n",
    "digit_condition = any(c in digits for c in password)\n",
    "upper_condition = any(c in uppercase_letters for c in password)\n",
    "special_condition = any(c in special_characters for c in password)\n",
    "\n",
    "if length_condition and digit_condition and upper_condition and special_condition:\n",
    "    print(\"Password is strong.\")\n",
    "else:\n",
    "    print(\"Password is weak. It should be at least 8 characters long, contain a digit, an uppercase letter, and a special character.\")"
   ]
  },
  {
   "cell_type": "code",
   "execution_count": null,
   "id": "5e487a4b-5304-484e-9ab7-028ca1cc5b2b",
   "metadata": {},
   "outputs": [],
   "source": [
    "# Create a program that simulates traffic light behavior where it takes input for the light\n",
    "# color (red, yellow, green) and outputs what vehicles should do."
   ]
  },
  {
   "cell_type": "code",
   "execution_count": null,
   "id": "aa7a4591-d0b4-44db-8547-da70bf4ef76e",
   "metadata": {},
   "outputs": [],
   "source": [
    "light_color = input(\"Enter the traffic light color (red, yellow, green): \").lower()\n",
    "if light_color == 'red':\n",
    "    print(\"Stop!\")\n",
    "elif light_color == 'yellow':\n",
    "    print(\"Caution! Prepare to stop.\")\n",
    "elif light_color == 'green':\n",
    "    print(\"Go!\")\n",
    "else:\n",
    "    print(\"Invalid color!\")"
   ]
  },
  {
   "cell_type": "code",
   "execution_count": null,
   "id": "37c93525-c662-4ecb-b3d6-413ed7f22b5e",
   "metadata": {},
   "outputs": [],
   "source": [
    "# Calculator: Develop a program that calculates simple interest given principal amount, rate of\n",
    "# interest, and time period while checking for valid input values."
   ]
  },
  {
   "cell_type": "code",
   "execution_count": null,
   "id": "1fdfe431-d9d9-4fc1-ad41-4d66ca915292",
   "metadata": {},
   "outputs": [],
   "source": [
    "\n",
    "principal = float(input(\"Enter principal amount: $\"))\n",
    "rate = float(input(\"Enter rate of interest: \"))\n",
    "time = float(input(\"Enter time in years: \"))\n",
    "\n",
    "if principal > 0 and rate > 0 and time > 0:\n",
    "    interest = principal * rate * time / 100\n",
    "    print(\"Simple Interest: \",interest)\n",
    "else:\n",
    "    print(\"Please enter valid positive values for principal, rate, and time.\")"
   ]
  },
  {
   "cell_type": "code",
   "execution_count": null,
   "id": "92d78089-9ffb-4649-9772-eef6c59679b9",
   "metadata": {},
   "outputs": [],
   "source": [
    "# Write a program that checks if an input number falls within a specified range (e.g., 1\n",
    "# to 100) and prints different messages based on where it falls."
   ]
  },
  {
   "cell_type": "code",
   "execution_count": null,
   "id": "64e9fdc1-0790-4529-8e55-c77d92e147eb",
   "metadata": {},
   "outputs": [],
   "source": [
    "number = float(input(\"Enter a number: \"))\n",
    "if number < 1:\n",
    "    print(\"The number is less than 1.\")\n",
    "elif number > 100:\n",
    "    print(\"The number is greater than 100.\")\n",
    "else:\n",
    "    print(\"The number is between 1 and 100.\")"
   ]
  },
  {
   "cell_type": "code",
   "execution_count": null,
   "id": "68855c5c-b8d5-499e-a9c5-21a511ea5647",
   "metadata": {},
   "outputs": [],
   "source": [
    "# Create a program that counts how many even numbers are in a list of user-inputted\n",
    "# numbers until the user enters -1 to stop."
   ]
  },
  {
   "cell_type": "code",
   "execution_count": null,
   "id": "1b3066f7-0acc-4a53-bfc6-c8ed7618cde7",
   "metadata": {},
   "outputs": [],
   "source": [
    "count = 0\n",
    "\n",
    "while True:\n",
    "    number = int(input(\"Enter a number (-1 to stop): \"))\n",
    "    if number == -1:\n",
    "        break\n",
    "    if number % 2 == 0:\n",
    "        count += 1\n",
    "\n",
    "print(\"You entered\", count, \"even numbers.\")\n"
   ]
  },
  {
   "cell_type": "code",
   "execution_count": null,
   "id": "619b5321-52a9-458d-8acb-df2446c84969",
   "metadata": {},
   "outputs": [],
   "source": [
    "# Implement a simple rock-paper-scissors game where the user plays against the\n",
    "# computer, determining the winner based on inputs."
   ]
  },
  {
   "cell_type": "code",
   "execution_count": null,
   "id": "3c6d84bd-965f-4d5b-a9e8-2d2c27a9681e",
   "metadata": {},
   "outputs": [],
   "source": [
    "choices = ['rock', 'paper', 'scissors']\n",
    "\n",
    "user_choice = input(\"Player 1 - Choose rock, paper or scissors: \").lower()\n",
    "computer_choice = input(\"Player 2 - Choose rock, paper or scissors: \").lower()\n",
    "\n",
    "print(\"Player 2 chose:\", computer_choice)\n",
    "\n",
    "if user_choice == computer_choice:\n",
    "    print(\"It's a tie!\")\n",
    "elif (user_choice == 'rock' and computer_choice == 'scissors') or \\\n",
    "     (user_choice == 'paper' and computer_choice == 'rock') or \\\n",
    "     (user_choice == 'scissors' and computer_choice == 'paper'):\n",
    "    print(\"Player 1 wins!\")\n",
    "else:\n",
    "    print(\"Player 2 wins!\")"
   ]
  },
  {
   "cell_type": "code",
   "execution_count": null,
   "id": "e044d697-f714-4201-b0b5-a23783c06712",
   "metadata": {},
   "outputs": [],
   "source": [
    "# Write a program that asks for a month number (1-12) and returns how many days are in\n",
    "# that month, considering leap years for February."
   ]
  },
  {
   "cell_type": "code",
   "execution_count": null,
   "id": "d980e4b3-39c8-444f-8996-770386550e8c",
   "metadata": {},
   "outputs": [],
   "source": [
    "month_number = int(input(\"Enter month number (1-12): \"))\n",
    "if month_number in [1, 3, 5, 7, 8, 10, 12]:\n",
    "    days = 31\n",
    "elif month_number in [4, 6, 9, 11]:\n",
    "    days = 30\n",
    "elif month_number == 2:\n",
    "    year = int(input(\"Enter year: \"))\n",
    "    if (year % 4 == 0 and year % 100 != 0) or (year % 400 == 0):\n",
    "        days = 29\n",
    "    else:\n",
    "        days = 28\n",
    "else:\n",
    "    days = None\n",
    "if days is not None:\n",
    "    print(f\"Month {month_number} has {days} days.\")\n",
    "else:\n",
    "    print(\"Invalid month number!\")"
   ]
  },
  {
   "cell_type": "code",
   "execution_count": null,
   "id": "946fc262-c2bc-4add-b496-8cb44d9dfd52",
   "metadata": {},
   "outputs": [],
   "source": [
    "# Create a program that calculates GPA based on letter grades entered\n",
    "# by the user and converts them into grade points using standard values."
   ]
  },
  {
   "cell_type": "code",
   "execution_count": null,
   "id": "cfe7e053-a828-4664-a9fe-14438cfc2695",
   "metadata": {},
   "outputs": [],
   "source": []
  },
  {
   "cell_type": "code",
   "execution_count": null,
   "id": "c01dd223-9221-4f83-8689-f31d1849f275",
   "metadata": {},
   "outputs": [],
   "source": [
    "total = 0\n",
    "count = 0\n",
    "print(\"Enter grades one by one (A, B, C, D, F). Type -1 to stop.\")\n",
    "\n",
    "while True:\n",
    "    grade = input(\"Enter grade: \")\n",
    "    \n",
    "    if grade == \"-1\":\n",
    "        break\n",
    "    \n",
    "    if grade == \"A\":\n",
    "        total += 4\n",
    "        count += 1\n",
    "    elif grade == \"B\":\n",
    "        total += 3\n",
    "        count += 1\n",
    "    elif grade == \"C\":\n",
    "        total += 2\n",
    "        count =  1\n",
    "    elif grade == \"D\":\n",
    "        total += 1\n",
    "        count += 1\n",
    "    elif grade == \"F\":\n",
    "        total +=  0\n",
    "        count +=  1\n",
    "    else:\n",
    "        print(\"Invalid grade. Try again.\")\n",
    "\n",
    "if count > 0:\n",
    "    gpa = total / count\n",
    "    print(\"Your GPA is:\", round(gpa, 2))\n",
    "else:\n",
    "    print(\"No valid grades entered.\")\n"
   ]
  },
  {
   "cell_type": "code",
   "execution_count": null,
   "id": "7ddc390f-16c4-4e13-a141-fc936f4a1cf8",
   "metadata": {},
   "outputs": [],
   "source": [
    "# Develop a voting system where users can vote for one of three candidates; ensure\n",
    "# each user can only vote once by checking against previous votes stored in a list."
   ]
  },
  {
   "cell_type": "code",
   "execution_count": null,
   "id": "e3bb4629-e4c6-4a03-8ef4-218e3b6c7b9c",
   "metadata": {},
   "outputs": [],
   "source": [
    "a_votes = 0\n",
    "b_votes = 0\n",
    "c_votes = 0\n",
    "\n",
    "while True:\n",
    "    vote = input(\"Vote for candidate A, B or C (-1 to stop): \").upper()\n",
    "    \n",
    "    if vote == \"-1\":\n",
    "        break\n",
    "    \n",
    "    if vote == \"A\":\n",
    "        a_votes += 1\n",
    "        print(\"Vote recorded for candidate A\")\n",
    "    elif vote == \"B\":\n",
    "        b_votes += 1\n",
    "        print(\"Vote recorded for candidate B\")\n",
    "    elif vote == \"C\":\n",
    "        c_votes += 1\n",
    "        \n",
    "        print(\"Vote recorded for candidate C\")\n",
    "    else:\n",
    "        print(\"Invalid vote! Please vote for A, B or C.\")\n",
    "\n",
    "print(\"Final results:\")\n",
    "print(\"Candidate A:\", a_votes)\n",
    "print(\"Candidate B:\", b_votes)\n",
    "print(\"Candidate C:\", c_votes)\n"
   ]
  },
  {
   "cell_type": "code",
   "execution_count": null,
   "id": "8db8bd56-94ab-4de8-bf4d-8bce27bcf37d",
   "metadata": {},
   "outputs": [],
   "source": [
    "# Given the temperature of a day in Degrees Celsius, convert this given\n",
    "# temperature from Celsius to Fahrenheit. Complete the function to do so.\n",
    "# Round the output up to 2 decimal places\n",
    "# Note:\n",
    "# 1. To round up the values -\n",
    "# Python : Use round(ans,2) to round up ans to two decimals\n",
    "# 2. The formula to convert Celsius to Fahrenheit is: F = (9/5 * C) + 32\n",
    "\n",
    "# def celsius_farhen(Celsius):\n",
    "# ans = (Celsius* 9/5)+32\n",
    "# return round(ans,2)"
   ]
  },
  {
   "cell_type": "code",
   "execution_count": 16,
   "id": "0458da79-249b-46d9-864b-055934555264",
   "metadata": {},
   "outputs": [],
   "source": [
    "def celsius_fahrenheit(Celsius):\n",
    "    ans = (Celsius * 9/5) + 32\n",
    "    return round(ans, 2)\n"
   ]
  },
  {
   "cell_type": "code",
   "execution_count": 17,
   "id": "d7b0768e-3394-40cc-bd58-e6feef934590",
   "metadata": {},
   "outputs": [
    {
     "data": {
      "text/plain": [
       "86.0"
      ]
     },
     "execution_count": 17,
     "metadata": {},
     "output_type": "execute_result"
    }
   ],
   "source": [
    " celsius_fahrenheit(30)"
   ]
  },
  {
   "cell_type": "code",
   "execution_count": 18,
   "id": "2b595fb2-035a-4431-a8cc-1937800b23da",
   "metadata": {},
   "outputs": [],
   "source": [
    "# 2. Write a program to calculate the total amount if the principal\n",
    "# amount, simple interest rate per annum, and time in the number of days\n",
    "# are given. The simple interest rate per annum is provided as a percentage.\n",
    "# Assuming that there are 365 days in a year, print the total amount rounded\n",
    "# up to 2 decimal places.\n",
    "# Note 1: Use round(ans,2) to round up ans up to two decimals"
   ]
  },
  {
   "cell_type": "code",
   "execution_count": 22,
   "id": "69042f6f-2172-4f0e-8578-ba6c3d5c8111",
   "metadata": {},
   "outputs": [],
   "source": [
    "# def simple_int(time,pa,ir):\n",
    "#     ''' time, pa, ir represents the time in number of days,\n",
    "# principal amount and rate of interest\n",
    "# Return the simple interest'''\n",
    "# interest = (pa * ir * time)/(365*100)\n",
    "\n",
    "# problems on functions 2\n",
    "\n",
    "# ans = pa + interest\n",
    "\n",
    "# return round(ans,2)"
   ]
  },
  {
   "cell_type": "code",
   "execution_count": 21,
   "id": "f4992a28-4b3f-4f4e-b50b-bb318a73b84e",
   "metadata": {},
   "outputs": [],
   "source": [
    "def simple_int(time, pa, ir):\n",
    "    '''\n",
    "    time: time in number of days\n",
    "    pa: principal amount\n",
    "    ir: interest rate per annum (as a percentage)\n",
    "    \n",
    "    Returns the total amount after interest, rounded to 2 decimal places\n",
    "    '''\n",
    "    interest = (pa * ir * time) / (365 * 100)\n",
    "    ans = pa + interest\n",
    "    return round(ans, 2)\n"
   ]
  },
  {
   "cell_type": "code",
   "execution_count": 23,
   "id": "f5cac000-7891-4a64-8c58-208f8e5db05a",
   "metadata": {},
   "outputs": [
    {
     "data": {
      "text/plain": [
       "30.03"
      ]
     },
     "execution_count": 23,
     "metadata": {},
     "output_type": "execute_result"
    }
   ],
   "source": [
    "simple_int(10,30,4)"
   ]
  },
  {
   "cell_type": "code",
   "execution_count": null,
   "id": "347e7d87-0579-43d3-a2a7-710ff4062f58",
   "metadata": {},
   "outputs": [],
   "source": []
  }
 ],
 "metadata": {
  "kernelspec": {
   "display_name": "Python 3 (ipykernel)",
   "language": "python",
   "name": "python3"
  },
  "language_info": {
   "codemirror_mode": {
    "name": "ipython",
    "version": 3
   },
   "file_extension": ".py",
   "mimetype": "text/x-python",
   "name": "python",
   "nbconvert_exporter": "python",
   "pygments_lexer": "ipython3",
   "version": "3.13.1"
  }
 },
 "nbformat": 4,
 "nbformat_minor": 5
}
